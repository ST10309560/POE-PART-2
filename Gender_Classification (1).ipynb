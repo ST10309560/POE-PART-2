{
  "nbformat": 4,
  "nbformat_minor": 0,
  "metadata": {
    "colab": {
      "provenance": []
    },
    "kernelspec": {
      "name": "python3",
      "display_name": "Python 3"
    },
    "language_info": {
      "name": "python"
    }
  },
  "cells": [
    {
      "cell_type": "markdown",
      "source": [
        "What is Classification?\n",
        "\n",
        "It is an exercise in supervised learning. Its objective is to determine which class the instance belongs to from a set of parameters (features) (codefinity.com, n.d.). For the computer to learn and predict the class of a new instance, you must provide many labelled samples of data (called a training set). Classification forecasts a category value, such as the kind of candy. The model attempts to categorise each instance into one of a limited number of values (codefinity.com, n.d.).\n",
        "There are two versatile categories based on how a problem is formulated:\n",
        "\n",
        "Binary classification: The target is one of the two possible outcomes in binary classification. Email is one example: spam/not spam, and sweets are cookies/not cookies (codefinity.com, n.d.).\n",
        "\n",
        "Multi-class classification: This method allows a target to have three or more alternative outcomes. Take email as an example: spam, important, ad, or other, or sweets like cookies, marshmallows, and candies (codefinity.com, n.d.).\n",
        "\n",
        "To use most ML models, you must encode the target to a number. While this process may seem complex initially, it is a crucial step in the classification process that can be easily mastered with practice. Results are typically encoded as 0/1 for binary classification (e.g., 1 for a cookie, 0 for not a cookie). The results of a multi-class classification are typically represented as 0, 1, or 2 (for example, 0 for sweets, 1 for cookies, and 2 for marshmallows) (codefinity.com, n.d.).\n",
        "\n",
        "The Scikit-learn collection includes simple-to-use classification models k-Nearest Neighbors, Random Forest, Decision Tree, and Logistic Regression. Why are these models so abundant? As the No Free Lunch Theorem asserts, no superior machine learning model exists. Which model works well will depend on the task (codefinity.com, n.d.).\n",
        "\n",
        "Given the Classification methods:\n",
        "\n",
        "For classification tasks, the supervised learning algorithm K-NN is employed (Glen, 2019). The principle behind it is that related data points typically fall into the same class (Glen, 2019).\n",
        "The K-NN model functions as follows in classification:\n",
        "K-NN finds the k nearest neighbors (data points) of a new data point from the training dataset. A majority vote among the new data point's k neighbors determines its class identification (Glen, 2019).\n",
        "\n",
        "Naive Bayes is a probabilistic classifier based on Bayes’ theorem. The word \"naive\" refers to the assumption that characteristics are conditionally independent, given the class name (Glen, 2019).\n",
        "Naive Bayes in Classification operates as follows:\n",
        "Naive Bayes uses the feature values to determine the likelihood of each class label given a new data point. The anticipated label is the class with the highest likelihood (Glen, 2019).\n",
        "\n",
        "In conclusion, data may be categorised into discrete classes or groups through classification. By doing this, we may use the patterns and correlations found in the data to influence our judgments (Great et al.). For instance, categorising emails as spam or non-spam facilitates more efficient mailbox management (Great et al.). Classification models allow us to forecast results or labels for previously unobserved data pieces. Accurate categorisation helps us predict future occurrences and take appropriate action (Great et al.)."
      ],
      "metadata": {
        "id": "OjWf72yJHEru"
      }
    },
    {
      "cell_type": "markdown",
      "source": [
        "Why is this dataset suitable for classification?\n",
        "\n",
        "1. The dataset's primary objective is a straightforward binary classification problem: predicting gender (male/female). This simplicity aligns perfectly with the requirements of classification algorithms, making it easy for us to comprehend and apply (Great et al.).\n",
        "\n",
        "2. The dataset contains features (long_hair, forehead width, forehead height, nose_wide, nose_long, lips_thin, distance_nose_to_lip_long) that can be used to predict the target variable (gender) (Great et al.).\n",
        "\n",
        "3. For Naive Bayes, this algorithm works well with categorical data and is based on the Bayes theorem. It assumes independence between features, which can often simplify the modelling process and yield good results for classification tasks like gender prediction (Great et al.).\n",
        "\n",
        "4. KNN is a versatile algorithm suitable for classification problems. It works by finding the 'k' most similar instances (neighbors) in the training data and predicting the class based on the majority class among these neighbors (Great et al.).\n",
        "\n",
        "5. Typically, gender prediction datasets are not excessively large, making them manageable for training and testing Naive Bayes and KNN without requiring extensive computational resources (Great et al.).\n",
        "6. Classification algorithms' performance can be evaluated using accuracy, precision, recall, and F1-score metrics. Gender prediction tasks often have balanced classes (similar numbers of males and females), allowing these metrics to provide meaningful insights (Great et al.).\n",
        "\n",
        "7. The Gender Prediction task is well-suited for classification tasks due to its binary nature and clear feature-label structure, and it also holds significant practical relevance. This combination of simplicity and practicality makes it an ideal scenario for applying and evaluating Naive Bayes and KNN algorithms, keeping us engaged and interested in the process (Great et al.).\n"
      ],
      "metadata": {
        "id": "sDNWZIn7JqXW"
      }
    },
    {
      "cell_type": "markdown",
      "source": [
        "What is the purpose of the analysis?\n",
        "\n",
        "This analysis aims to build and evaluate two classification models (Naive Bayes and k-Nearest Neighbors) for sex prediction based on face data (Anon, 2022).\n",
        "\n",
        "The stages we'll take are as follows:\n",
        "\n",
        "1. Import Libraries: NumPy, pandas, scikit-learn, and matplotlib are among the essential Python libraries we must import first (Anon, 2022).\n",
        "\n",
        "2. Open Dataset:\n",
        "Load the gender categorisation dataset that is given, which includes parameters such as nose shape, lip thickness, nose-to-lip distance, long hair, forehead width, and forehead height.\n",
        "Whether the person is \"Male\" or \"Female\" is shown in the label column. We will change the genders to a numeric classification. Males will be represented by 1 and Females 0 (Anon, 2022).\n",
        "\n",
        "3. Perform EDA or exploratory data analysis:\n",
        "Examine the dataset:\n",
        "Look for any values that are missing.\n",
        "Display feature distributions using box plots, pie charts, histograms, and other visual aids.\n",
        "Find any abnormalities or outliers (Anon, 2022).\n",
        "\n",
        "4. Train-Test Import Split:\n",
        "Divide the dataset into subgroups for testing and training:\n",
        "Set of training data (used to train models).\n",
        "Testing set (for assessment purposes) (Anon, 2022).\n",
        "\n",
        "5. k-Nearest Neighbors (K-NN) import:\n",
        "Use the K-NN algorithm as follows:\n",
        "Determine which of the k closest neighbors each data point is.\n",
        "Utilising the training data, train the model.\n",
        "Analyse how well it performed using the test data (Anon, 2022).\n",
        "\n",
        "6. Bring up Naive Bayes:\n",
        "Put the Naive Bayes classifier into practice:\n",
        "Find out the characteristics' conditional probability based on gender.\n",
        "Construct the model using the training set of data.\n",
        "Assess its correctness using the data from the tests (Anon, 2022).\n",
        "\n",
        "7. Compare Naive Bayes and K-NN Evaluation:\n",
        "Evaluate and contrast the two models' accuracy, precision, recall, F1-score, and other pertinent metrics.\n",
        "Examine the advantages and disadvantages of every algorithm.\n",
        "Choose the model that works best with this dataset (Anon, 2022).\n",
        "\n",
        "To summarise, we will examine the dataset, train and assess classifiers, and contrast Naive Bayes with K-NN for predicting gender (Anon, 2022)."
      ],
      "metadata": {
        "id": "GxUuGlw3KPh6"
      }
    },
    {
      "cell_type": "markdown",
      "source": [
        "# **Step 1: Import Libraries**"
      ],
      "metadata": {
        "id": "JP1W2PZ6zy3D"
      }
    },
    {
      "cell_type": "code",
      "source": [
        "import pandas as pd\n",
        "import numpy as np\n",
        "import seaborn as sns\n",
        "import matplotlib.pyplot as plt\n",
        "\n",
        "import sklearn as sk"
      ],
      "metadata": {
        "id": "og_NYwBhMogX"
      },
      "execution_count": 1,
      "outputs": []
    },
    {
      "cell_type": "markdown",
      "source": [
        "Pandas (pd): Pertinence to the Dataset: Pandas will be utilized for loading and examining the dataset, managing absent values, and generating DataFrames for effective data management(www.bing.com, 2022).\n",
        "NumPy (np): Applicability to the Dataset: NumPy may be utilized for producing arrays for model training and performing numerical operations on features, such as normalization (www.bing.com, 2022).\n",
        "Matplotlib with Seaborn: Pertinence to the Dataset:\n",
        "Seaborn: In order to investigate feature distributions and correlations, we may produce an educational pie chart.\n",
        "Matplotlib: It lets you customize charts and see how well models work (ROC curves, for example)(www.bing.com, 2022).\n",
        "Relevance to the Dataset: We will use k-Nearest Neighbors (K-NN) and Naive Bayes classifiers using Scikit-Learn (sklearn), assess their accuracy, and compare their performance(www.bing.com, 2022\n",
        "In conclusion, these tools enable efficient loading, preprocessing, visualisation, and analysis of the gender categorization dataset! (www.bing.com, 2022)."
      ],
      "metadata": {
        "id": "WfPSr6Shw0gm"
      }
    },
    {
      "cell_type": "markdown",
      "source": [
        "# **Step 2: Load the dataset**"
      ],
      "metadata": {
        "id": "XBNg3_oYN1BZ"
      }
    },
    {
      "cell_type": "markdown",
      "source": [
        "An essential step in data analysis is loading the dataset. Here, we'll import the gender categorization dataset—which includes characteristics like long hair, forehead height, forehead width, and nose shape—as well as the associated gender labels rapidly using the load_dataset() function of the Seaborn library. After that, we will investigate and evaluate this dataset to create classification models that use face feature analysis to determine gender (www.bing.com, 2022)."
      ],
      "metadata": {
        "id": "Ugk4sWtoyrw_"
      }
    },
    {
      "cell_type": "code",
      "execution_count": 2,
      "metadata": {
        "colab": {
          "base_uri": "https://localhost:8080/"
        },
        "id": "jfRsweAbEbTR",
        "outputId": "ecff1929-5517-474d-e5ca-6964a60dc494"
      },
      "outputs": [
        {
          "output_type": "stream",
          "name": "stdout",
          "text": [
            "      long_hair  forehead_width_cm  forehead_height_cm  nose_wide  nose_long  \\\n",
            "0             1               11.8                 6.1          1          0   \n",
            "1             0               14.0                 5.4          0          0   \n",
            "2             0               11.8                 6.3          1          1   \n",
            "3             0               14.4                 6.1          0          1   \n",
            "4             1               13.5                 5.9          0          0   \n",
            "...         ...                ...                 ...        ...        ...   \n",
            "4996          1               13.6                 5.1          0          0   \n",
            "4997          1               11.9                 5.4          0          0   \n",
            "4998          1               12.9                 5.7          0          0   \n",
            "4999          1               13.2                 6.2          0          0   \n",
            "5000          1               15.4                 5.4          1          1   \n",
            "\n",
            "      lips_thin  distance_nose_to_lip_long  gender  \n",
            "0             1                          1    Male  \n",
            "1             1                          0  Female  \n",
            "2             1                          1    Male  \n",
            "3             1                          1    Male  \n",
            "4             0                          0  Female  \n",
            "...         ...                        ...     ...  \n",
            "4996          0                          0  Female  \n",
            "4997          0                          0  Female  \n",
            "4998          0                          0  Female  \n",
            "4999          0                          0  Female  \n",
            "5000          1                          1    Male  \n",
            "\n",
            "[5001 rows x 8 columns]\n"
          ]
        }
      ],
      "source": [
        "#load dataset\n",
        "df = pd.read_csv('/content/gender_classification_v7.csv')\n",
        "print(df)"
      ]
    },
    {
      "cell_type": "markdown",
      "source": [
        "Content\n",
        "This dataset contains 7 features and a label column.\n",
        "\n",
        "long_hair - This column contains 0's and 1's where 1 is \"long hair\" and 0 is \"not long hair\".\n",
        "forehead_width_cm - This column is in CM's. This is the width of the forehead.\n",
        "forehead_height_cm - This is the height of the forehead and it's in Cm's.\n",
        "nose_wide - This column contains 0's and 1's where 1 is \"wide nose\" and 0 is \"not wide nose\".\n",
        "nose_long - This column contains 0's and 1's where 1 is \"Long nose\" and 0 is \"not long nose\".\n",
        "lips_thin - This column contains 0's and 1's where 1 represents the \"thin lips\" while 0 is \"Not thin lips\".\n",
        "distance_nose_to_lip_long - This column contains 0's and 1's where 1 represents the \"long distance between nose and lips\" while 0 is \"short distance between nose and lips\".\n",
        "gender - This is either \"Male\" or \"Female\". (www.Kaggle.com, n.d)\n",
        "\n",
        "For Example in Range 1,the Female does not have long hair,forehead width is 14.0cm,forehead height is 5.4cm,does not have wide nose nor long nose,the female has thin lips and short distance between nose and lips.\n",
        "\n",
        "Link for the dataset : https://www.kaggle.com/datasets/elakiricoder/gender-classification-dataset/data"
      ],
      "metadata": {
        "id": "P6lBwP0VcfZN"
      }
    },
    {
      "cell_type": "markdown",
      "source": [
        "# **Step 3: Perform EDA**"
      ],
      "metadata": {
        "id": "O1bkFe3kOb6M"
      }
    },
    {
      "cell_type": "markdown",
      "source": [
        "Before modeling, a dataset must be understood and prepared using exploratory data analysis, or EDA. It assists in finding mistakes, investigating feature patterns, spotting anomalies, and verifying presumptions. EDA verifies the accuracy of the data and provides guidance for further analysis (Anon, 2022)."
      ],
      "metadata": {
        "id": "b4GlV5pozet2"
      }
    },
    {
      "cell_type": "code",
      "source": [
        "#see how data looks\n",
        "df.head()"
      ],
      "metadata": {
        "colab": {
          "base_uri": "https://localhost:8080/",
          "height": 206
        },
        "id": "54zILQ1AMNZ2",
        "outputId": "81f10b31-25fe-4ccc-e323-918cee50242d"
      },
      "execution_count": 3,
      "outputs": [
        {
          "output_type": "execute_result",
          "data": {
            "text/plain": [
              "   long_hair  forehead_width_cm  forehead_height_cm  nose_wide  nose_long  \\\n",
              "0          1               11.8                 6.1          1          0   \n",
              "1          0               14.0                 5.4          0          0   \n",
              "2          0               11.8                 6.3          1          1   \n",
              "3          0               14.4                 6.1          0          1   \n",
              "4          1               13.5                 5.9          0          0   \n",
              "\n",
              "   lips_thin  distance_nose_to_lip_long  gender  \n",
              "0          1                          1    Male  \n",
              "1          1                          0  Female  \n",
              "2          1                          1    Male  \n",
              "3          1                          1    Male  \n",
              "4          0                          0  Female  "
            ],
            "text/html": [
              "\n",
              "  <div id=\"df-f5a20c46-db20-49a7-be0f-9f79fc70ba50\" class=\"colab-df-container\">\n",
              "    <div>\n",
              "<style scoped>\n",
              "    .dataframe tbody tr th:only-of-type {\n",
              "        vertical-align: middle;\n",
              "    }\n",
              "\n",
              "    .dataframe tbody tr th {\n",
              "        vertical-align: top;\n",
              "    }\n",
              "\n",
              "    .dataframe thead th {\n",
              "        text-align: right;\n",
              "    }\n",
              "</style>\n",
              "<table border=\"1\" class=\"dataframe\">\n",
              "  <thead>\n",
              "    <tr style=\"text-align: right;\">\n",
              "      <th></th>\n",
              "      <th>long_hair</th>\n",
              "      <th>forehead_width_cm</th>\n",
              "      <th>forehead_height_cm</th>\n",
              "      <th>nose_wide</th>\n",
              "      <th>nose_long</th>\n",
              "      <th>lips_thin</th>\n",
              "      <th>distance_nose_to_lip_long</th>\n",
              "      <th>gender</th>\n",
              "    </tr>\n",
              "  </thead>\n",
              "  <tbody>\n",
              "    <tr>\n",
              "      <th>0</th>\n",
              "      <td>1</td>\n",
              "      <td>11.8</td>\n",
              "      <td>6.1</td>\n",
              "      <td>1</td>\n",
              "      <td>0</td>\n",
              "      <td>1</td>\n",
              "      <td>1</td>\n",
              "      <td>Male</td>\n",
              "    </tr>\n",
              "    <tr>\n",
              "      <th>1</th>\n",
              "      <td>0</td>\n",
              "      <td>14.0</td>\n",
              "      <td>5.4</td>\n",
              "      <td>0</td>\n",
              "      <td>0</td>\n",
              "      <td>1</td>\n",
              "      <td>0</td>\n",
              "      <td>Female</td>\n",
              "    </tr>\n",
              "    <tr>\n",
              "      <th>2</th>\n",
              "      <td>0</td>\n",
              "      <td>11.8</td>\n",
              "      <td>6.3</td>\n",
              "      <td>1</td>\n",
              "      <td>1</td>\n",
              "      <td>1</td>\n",
              "      <td>1</td>\n",
              "      <td>Male</td>\n",
              "    </tr>\n",
              "    <tr>\n",
              "      <th>3</th>\n",
              "      <td>0</td>\n",
              "      <td>14.4</td>\n",
              "      <td>6.1</td>\n",
              "      <td>0</td>\n",
              "      <td>1</td>\n",
              "      <td>1</td>\n",
              "      <td>1</td>\n",
              "      <td>Male</td>\n",
              "    </tr>\n",
              "    <tr>\n",
              "      <th>4</th>\n",
              "      <td>1</td>\n",
              "      <td>13.5</td>\n",
              "      <td>5.9</td>\n",
              "      <td>0</td>\n",
              "      <td>0</td>\n",
              "      <td>0</td>\n",
              "      <td>0</td>\n",
              "      <td>Female</td>\n",
              "    </tr>\n",
              "  </tbody>\n",
              "</table>\n",
              "</div>\n",
              "    <div class=\"colab-df-buttons\">\n",
              "\n",
              "  <div class=\"colab-df-container\">\n",
              "    <button class=\"colab-df-convert\" onclick=\"convertToInteractive('df-f5a20c46-db20-49a7-be0f-9f79fc70ba50')\"\n",
              "            title=\"Convert this dataframe to an interactive table.\"\n",
              "            style=\"display:none;\">\n",
              "\n",
              "  <svg xmlns=\"http://www.w3.org/2000/svg\" height=\"24px\" viewBox=\"0 -960 960 960\">\n",
              "    <path d=\"M120-120v-720h720v720H120Zm60-500h600v-160H180v160Zm220 220h160v-160H400v160Zm0 220h160v-160H400v160ZM180-400h160v-160H180v160Zm440 0h160v-160H620v160ZM180-180h160v-160H180v160Zm440 0h160v-160H620v160Z\"/>\n",
              "  </svg>\n",
              "    </button>\n",
              "\n",
              "  <style>\n",
              "    .colab-df-container {\n",
              "      display:flex;\n",
              "      gap: 12px;\n",
              "    }\n",
              "\n",
              "    .colab-df-convert {\n",
              "      background-color: #E8F0FE;\n",
              "      border: none;\n",
              "      border-radius: 50%;\n",
              "      cursor: pointer;\n",
              "      display: none;\n",
              "      fill: #1967D2;\n",
              "      height: 32px;\n",
              "      padding: 0 0 0 0;\n",
              "      width: 32px;\n",
              "    }\n",
              "\n",
              "    .colab-df-convert:hover {\n",
              "      background-color: #E2EBFA;\n",
              "      box-shadow: 0px 1px 2px rgba(60, 64, 67, 0.3), 0px 1px 3px 1px rgba(60, 64, 67, 0.15);\n",
              "      fill: #174EA6;\n",
              "    }\n",
              "\n",
              "    .colab-df-buttons div {\n",
              "      margin-bottom: 4px;\n",
              "    }\n",
              "\n",
              "    [theme=dark] .colab-df-convert {\n",
              "      background-color: #3B4455;\n",
              "      fill: #D2E3FC;\n",
              "    }\n",
              "\n",
              "    [theme=dark] .colab-df-convert:hover {\n",
              "      background-color: #434B5C;\n",
              "      box-shadow: 0px 1px 3px 1px rgba(0, 0, 0, 0.15);\n",
              "      filter: drop-shadow(0px 1px 2px rgba(0, 0, 0, 0.3));\n",
              "      fill: #FFFFFF;\n",
              "    }\n",
              "  </style>\n",
              "\n",
              "    <script>\n",
              "      const buttonEl =\n",
              "        document.querySelector('#df-f5a20c46-db20-49a7-be0f-9f79fc70ba50 button.colab-df-convert');\n",
              "      buttonEl.style.display =\n",
              "        google.colab.kernel.accessAllowed ? 'block' : 'none';\n",
              "\n",
              "      async function convertToInteractive(key) {\n",
              "        const element = document.querySelector('#df-f5a20c46-db20-49a7-be0f-9f79fc70ba50');\n",
              "        const dataTable =\n",
              "          await google.colab.kernel.invokeFunction('convertToInteractive',\n",
              "                                                    [key], {});\n",
              "        if (!dataTable) return;\n",
              "\n",
              "        const docLinkHtml = 'Like what you see? Visit the ' +\n",
              "          '<a target=\"_blank\" href=https://colab.research.google.com/notebooks/data_table.ipynb>data table notebook</a>'\n",
              "          + ' to learn more about interactive tables.';\n",
              "        element.innerHTML = '';\n",
              "        dataTable['output_type'] = 'display_data';\n",
              "        await google.colab.output.renderOutput(dataTable, element);\n",
              "        const docLink = document.createElement('div');\n",
              "        docLink.innerHTML = docLinkHtml;\n",
              "        element.appendChild(docLink);\n",
              "      }\n",
              "    </script>\n",
              "  </div>\n",
              "\n",
              "\n",
              "<div id=\"df-0e1fb5a5-c243-442e-a59c-a59463b5a3ef\">\n",
              "  <button class=\"colab-df-quickchart\" onclick=\"quickchart('df-0e1fb5a5-c243-442e-a59c-a59463b5a3ef')\"\n",
              "            title=\"Suggest charts\"\n",
              "            style=\"display:none;\">\n",
              "\n",
              "<svg xmlns=\"http://www.w3.org/2000/svg\" height=\"24px\"viewBox=\"0 0 24 24\"\n",
              "     width=\"24px\">\n",
              "    <g>\n",
              "        <path d=\"M19 3H5c-1.1 0-2 .9-2 2v14c0 1.1.9 2 2 2h14c1.1 0 2-.9 2-2V5c0-1.1-.9-2-2-2zM9 17H7v-7h2v7zm4 0h-2V7h2v10zm4 0h-2v-4h2v4z\"/>\n",
              "    </g>\n",
              "</svg>\n",
              "  </button>\n",
              "\n",
              "<style>\n",
              "  .colab-df-quickchart {\n",
              "      --bg-color: #E8F0FE;\n",
              "      --fill-color: #1967D2;\n",
              "      --hover-bg-color: #E2EBFA;\n",
              "      --hover-fill-color: #174EA6;\n",
              "      --disabled-fill-color: #AAA;\n",
              "      --disabled-bg-color: #DDD;\n",
              "  }\n",
              "\n",
              "  [theme=dark] .colab-df-quickchart {\n",
              "      --bg-color: #3B4455;\n",
              "      --fill-color: #D2E3FC;\n",
              "      --hover-bg-color: #434B5C;\n",
              "      --hover-fill-color: #FFFFFF;\n",
              "      --disabled-bg-color: #3B4455;\n",
              "      --disabled-fill-color: #666;\n",
              "  }\n",
              "\n",
              "  .colab-df-quickchart {\n",
              "    background-color: var(--bg-color);\n",
              "    border: none;\n",
              "    border-radius: 50%;\n",
              "    cursor: pointer;\n",
              "    display: none;\n",
              "    fill: var(--fill-color);\n",
              "    height: 32px;\n",
              "    padding: 0;\n",
              "    width: 32px;\n",
              "  }\n",
              "\n",
              "  .colab-df-quickchart:hover {\n",
              "    background-color: var(--hover-bg-color);\n",
              "    box-shadow: 0 1px 2px rgba(60, 64, 67, 0.3), 0 1px 3px 1px rgba(60, 64, 67, 0.15);\n",
              "    fill: var(--button-hover-fill-color);\n",
              "  }\n",
              "\n",
              "  .colab-df-quickchart-complete:disabled,\n",
              "  .colab-df-quickchart-complete:disabled:hover {\n",
              "    background-color: var(--disabled-bg-color);\n",
              "    fill: var(--disabled-fill-color);\n",
              "    box-shadow: none;\n",
              "  }\n",
              "\n",
              "  .colab-df-spinner {\n",
              "    border: 2px solid var(--fill-color);\n",
              "    border-color: transparent;\n",
              "    border-bottom-color: var(--fill-color);\n",
              "    animation:\n",
              "      spin 1s steps(1) infinite;\n",
              "  }\n",
              "\n",
              "  @keyframes spin {\n",
              "    0% {\n",
              "      border-color: transparent;\n",
              "      border-bottom-color: var(--fill-color);\n",
              "      border-left-color: var(--fill-color);\n",
              "    }\n",
              "    20% {\n",
              "      border-color: transparent;\n",
              "      border-left-color: var(--fill-color);\n",
              "      border-top-color: var(--fill-color);\n",
              "    }\n",
              "    30% {\n",
              "      border-color: transparent;\n",
              "      border-left-color: var(--fill-color);\n",
              "      border-top-color: var(--fill-color);\n",
              "      border-right-color: var(--fill-color);\n",
              "    }\n",
              "    40% {\n",
              "      border-color: transparent;\n",
              "      border-right-color: var(--fill-color);\n",
              "      border-top-color: var(--fill-color);\n",
              "    }\n",
              "    60% {\n",
              "      border-color: transparent;\n",
              "      border-right-color: var(--fill-color);\n",
              "    }\n",
              "    80% {\n",
              "      border-color: transparent;\n",
              "      border-right-color: var(--fill-color);\n",
              "      border-bottom-color: var(--fill-color);\n",
              "    }\n",
              "    90% {\n",
              "      border-color: transparent;\n",
              "      border-bottom-color: var(--fill-color);\n",
              "    }\n",
              "  }\n",
              "</style>\n",
              "\n",
              "  <script>\n",
              "    async function quickchart(key) {\n",
              "      const quickchartButtonEl =\n",
              "        document.querySelector('#' + key + ' button');\n",
              "      quickchartButtonEl.disabled = true;  // To prevent multiple clicks.\n",
              "      quickchartButtonEl.classList.add('colab-df-spinner');\n",
              "      try {\n",
              "        const charts = await google.colab.kernel.invokeFunction(\n",
              "            'suggestCharts', [key], {});\n",
              "      } catch (error) {\n",
              "        console.error('Error during call to suggestCharts:', error);\n",
              "      }\n",
              "      quickchartButtonEl.classList.remove('colab-df-spinner');\n",
              "      quickchartButtonEl.classList.add('colab-df-quickchart-complete');\n",
              "    }\n",
              "    (() => {\n",
              "      let quickchartButtonEl =\n",
              "        document.querySelector('#df-0e1fb5a5-c243-442e-a59c-a59463b5a3ef button');\n",
              "      quickchartButtonEl.style.display =\n",
              "        google.colab.kernel.accessAllowed ? 'block' : 'none';\n",
              "    })();\n",
              "  </script>\n",
              "</div>\n",
              "\n",
              "    </div>\n",
              "  </div>\n"
            ],
            "application/vnd.google.colaboratory.intrinsic+json": {
              "type": "dataframe",
              "variable_name": "df",
              "summary": "{\n  \"name\": \"df\",\n  \"rows\": 5001,\n  \"fields\": [\n    {\n      \"column\": \"long_hair\",\n      \"properties\": {\n        \"dtype\": \"number\",\n        \"std\": 0,\n        \"min\": 0,\n        \"max\": 1,\n        \"num_unique_values\": 2,\n        \"samples\": [\n          0,\n          1\n        ],\n        \"semantic_type\": \"\",\n        \"description\": \"\"\n      }\n    },\n    {\n      \"column\": \"forehead_width_cm\",\n      \"properties\": {\n        \"dtype\": \"number\",\n        \"std\": 1.1071283024945044,\n        \"min\": 11.4,\n        \"max\": 15.5,\n        \"num_unique_values\": 42,\n        \"samples\": [\n          11.4,\n          15.2\n        ],\n        \"semantic_type\": \"\",\n        \"description\": \"\"\n      }\n    },\n    {\n      \"column\": \"forehead_height_cm\",\n      \"properties\": {\n        \"dtype\": \"number\",\n        \"std\": 0.5412678510891585,\n        \"min\": 5.1,\n        \"max\": 7.1,\n        \"num_unique_values\": 21,\n        \"samples\": [\n          6.1,\n          5.5\n        ],\n        \"semantic_type\": \"\",\n        \"description\": \"\"\n      }\n    },\n    {\n      \"column\": \"nose_wide\",\n      \"properties\": {\n        \"dtype\": \"number\",\n        \"std\": 0,\n        \"min\": 0,\n        \"max\": 1,\n        \"num_unique_values\": 2,\n        \"samples\": [\n          0,\n          1\n        ],\n        \"semantic_type\": \"\",\n        \"description\": \"\"\n      }\n    },\n    {\n      \"column\": \"nose_long\",\n      \"properties\": {\n        \"dtype\": \"number\",\n        \"std\": 0,\n        \"min\": 0,\n        \"max\": 1,\n        \"num_unique_values\": 2,\n        \"samples\": [\n          1,\n          0\n        ],\n        \"semantic_type\": \"\",\n        \"description\": \"\"\n      }\n    },\n    {\n      \"column\": \"lips_thin\",\n      \"properties\": {\n        \"dtype\": \"number\",\n        \"std\": 0,\n        \"min\": 0,\n        \"max\": 1,\n        \"num_unique_values\": 2,\n        \"samples\": [\n          0,\n          1\n        ],\n        \"semantic_type\": \"\",\n        \"description\": \"\"\n      }\n    },\n    {\n      \"column\": \"distance_nose_to_lip_long\",\n      \"properties\": {\n        \"dtype\": \"number\",\n        \"std\": 0,\n        \"min\": 0,\n        \"max\": 1,\n        \"num_unique_values\": 2,\n        \"samples\": [\n          0,\n          1\n        ],\n        \"semantic_type\": \"\",\n        \"description\": \"\"\n      }\n    },\n    {\n      \"column\": \"gender\",\n      \"properties\": {\n        \"dtype\": \"category\",\n        \"num_unique_values\": 2,\n        \"samples\": [\n          \"Female\",\n          \"Male\"\n        ],\n        \"semantic_type\": \"\",\n        \"description\": \"\"\n      }\n    }\n  ]\n}"
            }
          },
          "metadata": {},
          "execution_count": 3
        }
      ]
    },
    {
      "cell_type": "markdown",
      "source": [
        "We can rapidly examine the data and comprehend its structure thanks to the df.head() method, which is showing the first few rows of the gender categorization dataset. It is showing the values of features (such as long hair,forehead height and width,long nose or wide nose,thin lips and the distance from nose to lip.) along with the gender designations that go with them (like \"Male\" or \"Female\") (www.bing.com, 2022)."
      ],
      "metadata": {
        "id": "cwYIYSf706zc"
      }
    },
    {
      "cell_type": "code",
      "source": [
        "#Check the Data Type\n",
        "df.info()"
      ],
      "metadata": {
        "colab": {
          "base_uri": "https://localhost:8080/"
        },
        "id": "fqnaVVjyNFAM",
        "outputId": "cd9df4b6-6e95-4306-d52d-5880c87f2776"
      },
      "execution_count": 9,
      "outputs": [
        {
          "output_type": "stream",
          "name": "stdout",
          "text": [
            "<class 'pandas.core.frame.DataFrame'>\n",
            "RangeIndex: 5001 entries, 0 to 5000\n",
            "Data columns (total 8 columns):\n",
            " #   Column                     Non-Null Count  Dtype  \n",
            "---  ------                     --------------  -----  \n",
            " 0   long_hair                  5001 non-null   int64  \n",
            " 1   forehead_width_cm          5001 non-null   float64\n",
            " 2   forehead_height_cm         5001 non-null   float64\n",
            " 3   nose_wide                  5001 non-null   int64  \n",
            " 4   nose_long                  5001 non-null   int64  \n",
            " 5   lips_thin                  5001 non-null   int64  \n",
            " 6   distance_nose_to_lip_long  5001 non-null   int64  \n",
            " 7   gender                     5001 non-null   int64  \n",
            "dtypes: float64(2), int64(6)\n",
            "memory usage: 312.7 KB\n"
          ]
        }
      ]
    },
    {
      "cell_type": "markdown",
      "source": [
        "The structure and contents of a DataFrame are succinctly summarized via the df.info() function. Details like the total number of columns, data types of the columns, memory utilization, range index, and the amount of non-null values in each column are all included (www.w3schools.com, n.d.). In order to rapidly determine whether a dataset is full, spot probable missing values, and comprehend the various data types included in the DataFrame, it is imperative to run df.info() during exploratory investigation (www.w3schools.com, n.d.).\n",
        "\n",
        "The Dataset has a total of 8 columns,5001 entries,range index of 0 to 5000, non null in all 7 independent variables values are included,the memory utilization of 312.7+ KB.Data types are also included in the dataframe (www.w3schools.com, n.d.)."
      ],
      "metadata": {
        "id": "JleUhnmW295T"
      }
    },
    {
      "cell_type": "code",
      "source": [
        "df.isna().sum()"
      ],
      "metadata": {
        "colab": {
          "base_uri": "https://localhost:8080/"
        },
        "id": "wf5ptpySOrjs",
        "outputId": "534bc271-e4cb-409b-beaf-55464511b9c7"
      },
      "execution_count": 10,
      "outputs": [
        {
          "output_type": "execute_result",
          "data": {
            "text/plain": [
              "long_hair                    0\n",
              "forehead_width_cm            0\n",
              "forehead_height_cm           0\n",
              "nose_wide                    0\n",
              "nose_long                    0\n",
              "lips_thin                    0\n",
              "distance_nose_to_lip_long    0\n",
              "gender                       0\n",
              "dtype: int64"
            ]
          },
          "metadata": {},
          "execution_count": 10
        }
      ]
    },
    {
      "cell_type": "markdown",
      "source": [
        "The output indicates that there are no missing values (NaN) in any of the columns of the DataFrame. Each feature—such as long_hair, forehead_width_cm, and gender—has complete data for all observations (pandas.pydata.org, n.d).\n",
        "\n",
        "Having no missing values is beneficial because it ensures that the analysis won’t be affected by incomplete or unreliable data. When working with machine learning models, missing values can lead to biased results or reduced model performance (pandas.pydata.org, n.d)."
      ],
      "metadata": {
        "id": "uKyjBgFAlSQ1"
      }
    },
    {
      "cell_type": "code",
      "source": [
        "df['gender'].replace(['Female', 'Male'], [0,1], inplace =True )"
      ],
      "metadata": {
        "id": "e4B8ES-lPGry"
      },
      "execution_count": 7,
      "outputs": []
    },
    {
      "cell_type": "markdown",
      "source": [
        "The code replaces the values in the ‘gender’ column of a DataFrame."
      ],
      "metadata": {
        "id": "GePPGb0Mmo-l"
      }
    },
    {
      "cell_type": "code",
      "source": [
        "df.head(5)"
      ],
      "metadata": {
        "colab": {
          "base_uri": "https://localhost:8080/",
          "height": 206
        },
        "id": "IzwhkiazPZpm",
        "outputId": "acec3784-1818-41ca-ad00-8d1122cf568d"
      },
      "execution_count": 8,
      "outputs": [
        {
          "output_type": "execute_result",
          "data": {
            "text/plain": [
              "   long_hair  forehead_width_cm  forehead_height_cm  nose_wide  nose_long  \\\n",
              "0          1               11.8                 6.1          1          0   \n",
              "1          0               14.0                 5.4          0          0   \n",
              "2          0               11.8                 6.3          1          1   \n",
              "3          0               14.4                 6.1          0          1   \n",
              "4          1               13.5                 5.9          0          0   \n",
              "\n",
              "   lips_thin  distance_nose_to_lip_long  gender  \n",
              "0          1                          1       1  \n",
              "1          1                          0       0  \n",
              "2          1                          1       1  \n",
              "3          1                          1       1  \n",
              "4          0                          0       0  "
            ],
            "text/html": [
              "\n",
              "  <div id=\"df-f5e3db5b-67eb-4148-85ce-fa1d3a6f0add\" class=\"colab-df-container\">\n",
              "    <div>\n",
              "<style scoped>\n",
              "    .dataframe tbody tr th:only-of-type {\n",
              "        vertical-align: middle;\n",
              "    }\n",
              "\n",
              "    .dataframe tbody tr th {\n",
              "        vertical-align: top;\n",
              "    }\n",
              "\n",
              "    .dataframe thead th {\n",
              "        text-align: right;\n",
              "    }\n",
              "</style>\n",
              "<table border=\"1\" class=\"dataframe\">\n",
              "  <thead>\n",
              "    <tr style=\"text-align: right;\">\n",
              "      <th></th>\n",
              "      <th>long_hair</th>\n",
              "      <th>forehead_width_cm</th>\n",
              "      <th>forehead_height_cm</th>\n",
              "      <th>nose_wide</th>\n",
              "      <th>nose_long</th>\n",
              "      <th>lips_thin</th>\n",
              "      <th>distance_nose_to_lip_long</th>\n",
              "      <th>gender</th>\n",
              "    </tr>\n",
              "  </thead>\n",
              "  <tbody>\n",
              "    <tr>\n",
              "      <th>0</th>\n",
              "      <td>1</td>\n",
              "      <td>11.8</td>\n",
              "      <td>6.1</td>\n",
              "      <td>1</td>\n",
              "      <td>0</td>\n",
              "      <td>1</td>\n",
              "      <td>1</td>\n",
              "      <td>1</td>\n",
              "    </tr>\n",
              "    <tr>\n",
              "      <th>1</th>\n",
              "      <td>0</td>\n",
              "      <td>14.0</td>\n",
              "      <td>5.4</td>\n",
              "      <td>0</td>\n",
              "      <td>0</td>\n",
              "      <td>1</td>\n",
              "      <td>0</td>\n",
              "      <td>0</td>\n",
              "    </tr>\n",
              "    <tr>\n",
              "      <th>2</th>\n",
              "      <td>0</td>\n",
              "      <td>11.8</td>\n",
              "      <td>6.3</td>\n",
              "      <td>1</td>\n",
              "      <td>1</td>\n",
              "      <td>1</td>\n",
              "      <td>1</td>\n",
              "      <td>1</td>\n",
              "    </tr>\n",
              "    <tr>\n",
              "      <th>3</th>\n",
              "      <td>0</td>\n",
              "      <td>14.4</td>\n",
              "      <td>6.1</td>\n",
              "      <td>0</td>\n",
              "      <td>1</td>\n",
              "      <td>1</td>\n",
              "      <td>1</td>\n",
              "      <td>1</td>\n",
              "    </tr>\n",
              "    <tr>\n",
              "      <th>4</th>\n",
              "      <td>1</td>\n",
              "      <td>13.5</td>\n",
              "      <td>5.9</td>\n",
              "      <td>0</td>\n",
              "      <td>0</td>\n",
              "      <td>0</td>\n",
              "      <td>0</td>\n",
              "      <td>0</td>\n",
              "    </tr>\n",
              "  </tbody>\n",
              "</table>\n",
              "</div>\n",
              "    <div class=\"colab-df-buttons\">\n",
              "\n",
              "  <div class=\"colab-df-container\">\n",
              "    <button class=\"colab-df-convert\" onclick=\"convertToInteractive('df-f5e3db5b-67eb-4148-85ce-fa1d3a6f0add')\"\n",
              "            title=\"Convert this dataframe to an interactive table.\"\n",
              "            style=\"display:none;\">\n",
              "\n",
              "  <svg xmlns=\"http://www.w3.org/2000/svg\" height=\"24px\" viewBox=\"0 -960 960 960\">\n",
              "    <path d=\"M120-120v-720h720v720H120Zm60-500h600v-160H180v160Zm220 220h160v-160H400v160Zm0 220h160v-160H400v160ZM180-400h160v-160H180v160Zm440 0h160v-160H620v160ZM180-180h160v-160H180v160Zm440 0h160v-160H620v160Z\"/>\n",
              "  </svg>\n",
              "    </button>\n",
              "\n",
              "  <style>\n",
              "    .colab-df-container {\n",
              "      display:flex;\n",
              "      gap: 12px;\n",
              "    }\n",
              "\n",
              "    .colab-df-convert {\n",
              "      background-color: #E8F0FE;\n",
              "      border: none;\n",
              "      border-radius: 50%;\n",
              "      cursor: pointer;\n",
              "      display: none;\n",
              "      fill: #1967D2;\n",
              "      height: 32px;\n",
              "      padding: 0 0 0 0;\n",
              "      width: 32px;\n",
              "    }\n",
              "\n",
              "    .colab-df-convert:hover {\n",
              "      background-color: #E2EBFA;\n",
              "      box-shadow: 0px 1px 2px rgba(60, 64, 67, 0.3), 0px 1px 3px 1px rgba(60, 64, 67, 0.15);\n",
              "      fill: #174EA6;\n",
              "    }\n",
              "\n",
              "    .colab-df-buttons div {\n",
              "      margin-bottom: 4px;\n",
              "    }\n",
              "\n",
              "    [theme=dark] .colab-df-convert {\n",
              "      background-color: #3B4455;\n",
              "      fill: #D2E3FC;\n",
              "    }\n",
              "\n",
              "    [theme=dark] .colab-df-convert:hover {\n",
              "      background-color: #434B5C;\n",
              "      box-shadow: 0px 1px 3px 1px rgba(0, 0, 0, 0.15);\n",
              "      filter: drop-shadow(0px 1px 2px rgba(0, 0, 0, 0.3));\n",
              "      fill: #FFFFFF;\n",
              "    }\n",
              "  </style>\n",
              "\n",
              "    <script>\n",
              "      const buttonEl =\n",
              "        document.querySelector('#df-f5e3db5b-67eb-4148-85ce-fa1d3a6f0add button.colab-df-convert');\n",
              "      buttonEl.style.display =\n",
              "        google.colab.kernel.accessAllowed ? 'block' : 'none';\n",
              "\n",
              "      async function convertToInteractive(key) {\n",
              "        const element = document.querySelector('#df-f5e3db5b-67eb-4148-85ce-fa1d3a6f0add');\n",
              "        const dataTable =\n",
              "          await google.colab.kernel.invokeFunction('convertToInteractive',\n",
              "                                                    [key], {});\n",
              "        if (!dataTable) return;\n",
              "\n",
              "        const docLinkHtml = 'Like what you see? Visit the ' +\n",
              "          '<a target=\"_blank\" href=https://colab.research.google.com/notebooks/data_table.ipynb>data table notebook</a>'\n",
              "          + ' to learn more about interactive tables.';\n",
              "        element.innerHTML = '';\n",
              "        dataTable['output_type'] = 'display_data';\n",
              "        await google.colab.output.renderOutput(dataTable, element);\n",
              "        const docLink = document.createElement('div');\n",
              "        docLink.innerHTML = docLinkHtml;\n",
              "        element.appendChild(docLink);\n",
              "      }\n",
              "    </script>\n",
              "  </div>\n",
              "\n",
              "\n",
              "<div id=\"df-1b17baa2-d179-43a2-a603-d4584a338f5d\">\n",
              "  <button class=\"colab-df-quickchart\" onclick=\"quickchart('df-1b17baa2-d179-43a2-a603-d4584a338f5d')\"\n",
              "            title=\"Suggest charts\"\n",
              "            style=\"display:none;\">\n",
              "\n",
              "<svg xmlns=\"http://www.w3.org/2000/svg\" height=\"24px\"viewBox=\"0 0 24 24\"\n",
              "     width=\"24px\">\n",
              "    <g>\n",
              "        <path d=\"M19 3H5c-1.1 0-2 .9-2 2v14c0 1.1.9 2 2 2h14c1.1 0 2-.9 2-2V5c0-1.1-.9-2-2-2zM9 17H7v-7h2v7zm4 0h-2V7h2v10zm4 0h-2v-4h2v4z\"/>\n",
              "    </g>\n",
              "</svg>\n",
              "  </button>\n",
              "\n",
              "<style>\n",
              "  .colab-df-quickchart {\n",
              "      --bg-color: #E8F0FE;\n",
              "      --fill-color: #1967D2;\n",
              "      --hover-bg-color: #E2EBFA;\n",
              "      --hover-fill-color: #174EA6;\n",
              "      --disabled-fill-color: #AAA;\n",
              "      --disabled-bg-color: #DDD;\n",
              "  }\n",
              "\n",
              "  [theme=dark] .colab-df-quickchart {\n",
              "      --bg-color: #3B4455;\n",
              "      --fill-color: #D2E3FC;\n",
              "      --hover-bg-color: #434B5C;\n",
              "      --hover-fill-color: #FFFFFF;\n",
              "      --disabled-bg-color: #3B4455;\n",
              "      --disabled-fill-color: #666;\n",
              "  }\n",
              "\n",
              "  .colab-df-quickchart {\n",
              "    background-color: var(--bg-color);\n",
              "    border: none;\n",
              "    border-radius: 50%;\n",
              "    cursor: pointer;\n",
              "    display: none;\n",
              "    fill: var(--fill-color);\n",
              "    height: 32px;\n",
              "    padding: 0;\n",
              "    width: 32px;\n",
              "  }\n",
              "\n",
              "  .colab-df-quickchart:hover {\n",
              "    background-color: var(--hover-bg-color);\n",
              "    box-shadow: 0 1px 2px rgba(60, 64, 67, 0.3), 0 1px 3px 1px rgba(60, 64, 67, 0.15);\n",
              "    fill: var(--button-hover-fill-color);\n",
              "  }\n",
              "\n",
              "  .colab-df-quickchart-complete:disabled,\n",
              "  .colab-df-quickchart-complete:disabled:hover {\n",
              "    background-color: var(--disabled-bg-color);\n",
              "    fill: var(--disabled-fill-color);\n",
              "    box-shadow: none;\n",
              "  }\n",
              "\n",
              "  .colab-df-spinner {\n",
              "    border: 2px solid var(--fill-color);\n",
              "    border-color: transparent;\n",
              "    border-bottom-color: var(--fill-color);\n",
              "    animation:\n",
              "      spin 1s steps(1) infinite;\n",
              "  }\n",
              "\n",
              "  @keyframes spin {\n",
              "    0% {\n",
              "      border-color: transparent;\n",
              "      border-bottom-color: var(--fill-color);\n",
              "      border-left-color: var(--fill-color);\n",
              "    }\n",
              "    20% {\n",
              "      border-color: transparent;\n",
              "      border-left-color: var(--fill-color);\n",
              "      border-top-color: var(--fill-color);\n",
              "    }\n",
              "    30% {\n",
              "      border-color: transparent;\n",
              "      border-left-color: var(--fill-color);\n",
              "      border-top-color: var(--fill-color);\n",
              "      border-right-color: var(--fill-color);\n",
              "    }\n",
              "    40% {\n",
              "      border-color: transparent;\n",
              "      border-right-color: var(--fill-color);\n",
              "      border-top-color: var(--fill-color);\n",
              "    }\n",
              "    60% {\n",
              "      border-color: transparent;\n",
              "      border-right-color: var(--fill-color);\n",
              "    }\n",
              "    80% {\n",
              "      border-color: transparent;\n",
              "      border-right-color: var(--fill-color);\n",
              "      border-bottom-color: var(--fill-color);\n",
              "    }\n",
              "    90% {\n",
              "      border-color: transparent;\n",
              "      border-bottom-color: var(--fill-color);\n",
              "    }\n",
              "  }\n",
              "</style>\n",
              "\n",
              "  <script>\n",
              "    async function quickchart(key) {\n",
              "      const quickchartButtonEl =\n",
              "        document.querySelector('#' + key + ' button');\n",
              "      quickchartButtonEl.disabled = true;  // To prevent multiple clicks.\n",
              "      quickchartButtonEl.classList.add('colab-df-spinner');\n",
              "      try {\n",
              "        const charts = await google.colab.kernel.invokeFunction(\n",
              "            'suggestCharts', [key], {});\n",
              "      } catch (error) {\n",
              "        console.error('Error during call to suggestCharts:', error);\n",
              "      }\n",
              "      quickchartButtonEl.classList.remove('colab-df-spinner');\n",
              "      quickchartButtonEl.classList.add('colab-df-quickchart-complete');\n",
              "    }\n",
              "    (() => {\n",
              "      let quickchartButtonEl =\n",
              "        document.querySelector('#df-1b17baa2-d179-43a2-a603-d4584a338f5d button');\n",
              "      quickchartButtonEl.style.display =\n",
              "        google.colab.kernel.accessAllowed ? 'block' : 'none';\n",
              "    })();\n",
              "  </script>\n",
              "</div>\n",
              "\n",
              "    </div>\n",
              "  </div>\n"
            ],
            "application/vnd.google.colaboratory.intrinsic+json": {
              "type": "dataframe",
              "variable_name": "df",
              "summary": "{\n  \"name\": \"df\",\n  \"rows\": 5001,\n  \"fields\": [\n    {\n      \"column\": \"long_hair\",\n      \"properties\": {\n        \"dtype\": \"number\",\n        \"std\": 0,\n        \"min\": 0,\n        \"max\": 1,\n        \"num_unique_values\": 2,\n        \"samples\": [\n          0,\n          1\n        ],\n        \"semantic_type\": \"\",\n        \"description\": \"\"\n      }\n    },\n    {\n      \"column\": \"forehead_width_cm\",\n      \"properties\": {\n        \"dtype\": \"number\",\n        \"std\": 1.1071283024945044,\n        \"min\": 11.4,\n        \"max\": 15.5,\n        \"num_unique_values\": 42,\n        \"samples\": [\n          11.4,\n          15.2\n        ],\n        \"semantic_type\": \"\",\n        \"description\": \"\"\n      }\n    },\n    {\n      \"column\": \"forehead_height_cm\",\n      \"properties\": {\n        \"dtype\": \"number\",\n        \"std\": 0.5412678510891585,\n        \"min\": 5.1,\n        \"max\": 7.1,\n        \"num_unique_values\": 21,\n        \"samples\": [\n          6.1,\n          5.5\n        ],\n        \"semantic_type\": \"\",\n        \"description\": \"\"\n      }\n    },\n    {\n      \"column\": \"nose_wide\",\n      \"properties\": {\n        \"dtype\": \"number\",\n        \"std\": 0,\n        \"min\": 0,\n        \"max\": 1,\n        \"num_unique_values\": 2,\n        \"samples\": [\n          0,\n          1\n        ],\n        \"semantic_type\": \"\",\n        \"description\": \"\"\n      }\n    },\n    {\n      \"column\": \"nose_long\",\n      \"properties\": {\n        \"dtype\": \"number\",\n        \"std\": 0,\n        \"min\": 0,\n        \"max\": 1,\n        \"num_unique_values\": 2,\n        \"samples\": [\n          1,\n          0\n        ],\n        \"semantic_type\": \"\",\n        \"description\": \"\"\n      }\n    },\n    {\n      \"column\": \"lips_thin\",\n      \"properties\": {\n        \"dtype\": \"number\",\n        \"std\": 0,\n        \"min\": 0,\n        \"max\": 1,\n        \"num_unique_values\": 2,\n        \"samples\": [\n          0,\n          1\n        ],\n        \"semantic_type\": \"\",\n        \"description\": \"\"\n      }\n    },\n    {\n      \"column\": \"distance_nose_to_lip_long\",\n      \"properties\": {\n        \"dtype\": \"number\",\n        \"std\": 0,\n        \"min\": 0,\n        \"max\": 1,\n        \"num_unique_values\": 2,\n        \"samples\": [\n          0,\n          1\n        ],\n        \"semantic_type\": \"\",\n        \"description\": \"\"\n      }\n    },\n    {\n      \"column\": \"gender\",\n      \"properties\": {\n        \"dtype\": \"number\",\n        \"std\": 0,\n        \"min\": 0,\n        \"max\": 1,\n        \"num_unique_values\": 2,\n        \"samples\": [\n          0,\n          1\n        ],\n        \"semantic_type\": \"\",\n        \"description\": \"\"\n      }\n    }\n  ]\n}"
            }
          },
          "metadata": {},
          "execution_count": 8
        }
      ]
    },
    {
      "cell_type": "markdown",
      "source": [
        "The original values ‘Female’ are replaced with the numeric value 0.\n",
        "The original values ‘Male’ are replaced with the numeric value 1.\n",
        "This transformation allows us to represent gender using binary values (0 for female and 1 for male) instead of the original text labels. It’s a common preprocessing step when working with categorical data in machine learning or data analysis (pandas.pydata.org, n.d)."
      ],
      "metadata": {
        "id": "sy4iDDDpm5eX"
      }
    },
    {
      "cell_type": "code",
      "source": [
        "df.describe()"
      ],
      "metadata": {
        "colab": {
          "base_uri": "https://localhost:8080/",
          "height": 300
        },
        "id": "9pINPmcRSpB1",
        "outputId": "61004485-de1a-4a96-9d5f-484858975e5a"
      },
      "execution_count": 12,
      "outputs": [
        {
          "output_type": "execute_result",
          "data": {
            "text/plain": [
              "         long_hair  forehead_width_cm  forehead_height_cm    nose_wide  \\\n",
              "count  5001.000000        5001.000000         5001.000000  5001.000000   \n",
              "mean      0.869626          13.181484            5.946311     0.493901   \n",
              "std       0.336748           1.107128            0.541268     0.500013   \n",
              "min       0.000000          11.400000            5.100000     0.000000   \n",
              "25%       1.000000          12.200000            5.500000     0.000000   \n",
              "50%       1.000000          13.100000            5.900000     0.000000   \n",
              "75%       1.000000          14.000000            6.400000     1.000000   \n",
              "max       1.000000          15.500000            7.100000     1.000000   \n",
              "\n",
              "         nose_long    lips_thin  distance_nose_to_lip_long      gender  \n",
              "count  5001.000000  5001.000000                5001.000000  5001.00000  \n",
              "mean      0.507898     0.493101                   0.498900     0.49990  \n",
              "std       0.499988     0.500002                   0.500049     0.50005  \n",
              "min       0.000000     0.000000                   0.000000     0.00000  \n",
              "25%       0.000000     0.000000                   0.000000     0.00000  \n",
              "50%       1.000000     0.000000                   0.000000     0.00000  \n",
              "75%       1.000000     1.000000                   1.000000     1.00000  \n",
              "max       1.000000     1.000000                   1.000000     1.00000  "
            ],
            "text/html": [
              "\n",
              "  <div id=\"df-022459ec-62c3-47d3-a7bf-681ddd954850\" class=\"colab-df-container\">\n",
              "    <div>\n",
              "<style scoped>\n",
              "    .dataframe tbody tr th:only-of-type {\n",
              "        vertical-align: middle;\n",
              "    }\n",
              "\n",
              "    .dataframe tbody tr th {\n",
              "        vertical-align: top;\n",
              "    }\n",
              "\n",
              "    .dataframe thead th {\n",
              "        text-align: right;\n",
              "    }\n",
              "</style>\n",
              "<table border=\"1\" class=\"dataframe\">\n",
              "  <thead>\n",
              "    <tr style=\"text-align: right;\">\n",
              "      <th></th>\n",
              "      <th>long_hair</th>\n",
              "      <th>forehead_width_cm</th>\n",
              "      <th>forehead_height_cm</th>\n",
              "      <th>nose_wide</th>\n",
              "      <th>nose_long</th>\n",
              "      <th>lips_thin</th>\n",
              "      <th>distance_nose_to_lip_long</th>\n",
              "      <th>gender</th>\n",
              "    </tr>\n",
              "  </thead>\n",
              "  <tbody>\n",
              "    <tr>\n",
              "      <th>count</th>\n",
              "      <td>5001.000000</td>\n",
              "      <td>5001.000000</td>\n",
              "      <td>5001.000000</td>\n",
              "      <td>5001.000000</td>\n",
              "      <td>5001.000000</td>\n",
              "      <td>5001.000000</td>\n",
              "      <td>5001.000000</td>\n",
              "      <td>5001.00000</td>\n",
              "    </tr>\n",
              "    <tr>\n",
              "      <th>mean</th>\n",
              "      <td>0.869626</td>\n",
              "      <td>13.181484</td>\n",
              "      <td>5.946311</td>\n",
              "      <td>0.493901</td>\n",
              "      <td>0.507898</td>\n",
              "      <td>0.493101</td>\n",
              "      <td>0.498900</td>\n",
              "      <td>0.49990</td>\n",
              "    </tr>\n",
              "    <tr>\n",
              "      <th>std</th>\n",
              "      <td>0.336748</td>\n",
              "      <td>1.107128</td>\n",
              "      <td>0.541268</td>\n",
              "      <td>0.500013</td>\n",
              "      <td>0.499988</td>\n",
              "      <td>0.500002</td>\n",
              "      <td>0.500049</td>\n",
              "      <td>0.50005</td>\n",
              "    </tr>\n",
              "    <tr>\n",
              "      <th>min</th>\n",
              "      <td>0.000000</td>\n",
              "      <td>11.400000</td>\n",
              "      <td>5.100000</td>\n",
              "      <td>0.000000</td>\n",
              "      <td>0.000000</td>\n",
              "      <td>0.000000</td>\n",
              "      <td>0.000000</td>\n",
              "      <td>0.00000</td>\n",
              "    </tr>\n",
              "    <tr>\n",
              "      <th>25%</th>\n",
              "      <td>1.000000</td>\n",
              "      <td>12.200000</td>\n",
              "      <td>5.500000</td>\n",
              "      <td>0.000000</td>\n",
              "      <td>0.000000</td>\n",
              "      <td>0.000000</td>\n",
              "      <td>0.000000</td>\n",
              "      <td>0.00000</td>\n",
              "    </tr>\n",
              "    <tr>\n",
              "      <th>50%</th>\n",
              "      <td>1.000000</td>\n",
              "      <td>13.100000</td>\n",
              "      <td>5.900000</td>\n",
              "      <td>0.000000</td>\n",
              "      <td>1.000000</td>\n",
              "      <td>0.000000</td>\n",
              "      <td>0.000000</td>\n",
              "      <td>0.00000</td>\n",
              "    </tr>\n",
              "    <tr>\n",
              "      <th>75%</th>\n",
              "      <td>1.000000</td>\n",
              "      <td>14.000000</td>\n",
              "      <td>6.400000</td>\n",
              "      <td>1.000000</td>\n",
              "      <td>1.000000</td>\n",
              "      <td>1.000000</td>\n",
              "      <td>1.000000</td>\n",
              "      <td>1.00000</td>\n",
              "    </tr>\n",
              "    <tr>\n",
              "      <th>max</th>\n",
              "      <td>1.000000</td>\n",
              "      <td>15.500000</td>\n",
              "      <td>7.100000</td>\n",
              "      <td>1.000000</td>\n",
              "      <td>1.000000</td>\n",
              "      <td>1.000000</td>\n",
              "      <td>1.000000</td>\n",
              "      <td>1.00000</td>\n",
              "    </tr>\n",
              "  </tbody>\n",
              "</table>\n",
              "</div>\n",
              "    <div class=\"colab-df-buttons\">\n",
              "\n",
              "  <div class=\"colab-df-container\">\n",
              "    <button class=\"colab-df-convert\" onclick=\"convertToInteractive('df-022459ec-62c3-47d3-a7bf-681ddd954850')\"\n",
              "            title=\"Convert this dataframe to an interactive table.\"\n",
              "            style=\"display:none;\">\n",
              "\n",
              "  <svg xmlns=\"http://www.w3.org/2000/svg\" height=\"24px\" viewBox=\"0 -960 960 960\">\n",
              "    <path d=\"M120-120v-720h720v720H120Zm60-500h600v-160H180v160Zm220 220h160v-160H400v160Zm0 220h160v-160H400v160ZM180-400h160v-160H180v160Zm440 0h160v-160H620v160ZM180-180h160v-160H180v160Zm440 0h160v-160H620v160Z\"/>\n",
              "  </svg>\n",
              "    </button>\n",
              "\n",
              "  <style>\n",
              "    .colab-df-container {\n",
              "      display:flex;\n",
              "      gap: 12px;\n",
              "    }\n",
              "\n",
              "    .colab-df-convert {\n",
              "      background-color: #E8F0FE;\n",
              "      border: none;\n",
              "      border-radius: 50%;\n",
              "      cursor: pointer;\n",
              "      display: none;\n",
              "      fill: #1967D2;\n",
              "      height: 32px;\n",
              "      padding: 0 0 0 0;\n",
              "      width: 32px;\n",
              "    }\n",
              "\n",
              "    .colab-df-convert:hover {\n",
              "      background-color: #E2EBFA;\n",
              "      box-shadow: 0px 1px 2px rgba(60, 64, 67, 0.3), 0px 1px 3px 1px rgba(60, 64, 67, 0.15);\n",
              "      fill: #174EA6;\n",
              "    }\n",
              "\n",
              "    .colab-df-buttons div {\n",
              "      margin-bottom: 4px;\n",
              "    }\n",
              "\n",
              "    [theme=dark] .colab-df-convert {\n",
              "      background-color: #3B4455;\n",
              "      fill: #D2E3FC;\n",
              "    }\n",
              "\n",
              "    [theme=dark] .colab-df-convert:hover {\n",
              "      background-color: #434B5C;\n",
              "      box-shadow: 0px 1px 3px 1px rgba(0, 0, 0, 0.15);\n",
              "      filter: drop-shadow(0px 1px 2px rgba(0, 0, 0, 0.3));\n",
              "      fill: #FFFFFF;\n",
              "    }\n",
              "  </style>\n",
              "\n",
              "    <script>\n",
              "      const buttonEl =\n",
              "        document.querySelector('#df-022459ec-62c3-47d3-a7bf-681ddd954850 button.colab-df-convert');\n",
              "      buttonEl.style.display =\n",
              "        google.colab.kernel.accessAllowed ? 'block' : 'none';\n",
              "\n",
              "      async function convertToInteractive(key) {\n",
              "        const element = document.querySelector('#df-022459ec-62c3-47d3-a7bf-681ddd954850');\n",
              "        const dataTable =\n",
              "          await google.colab.kernel.invokeFunction('convertToInteractive',\n",
              "                                                    [key], {});\n",
              "        if (!dataTable) return;\n",
              "\n",
              "        const docLinkHtml = 'Like what you see? Visit the ' +\n",
              "          '<a target=\"_blank\" href=https://colab.research.google.com/notebooks/data_table.ipynb>data table notebook</a>'\n",
              "          + ' to learn more about interactive tables.';\n",
              "        element.innerHTML = '';\n",
              "        dataTable['output_type'] = 'display_data';\n",
              "        await google.colab.output.renderOutput(dataTable, element);\n",
              "        const docLink = document.createElement('div');\n",
              "        docLink.innerHTML = docLinkHtml;\n",
              "        element.appendChild(docLink);\n",
              "      }\n",
              "    </script>\n",
              "  </div>\n",
              "\n",
              "\n",
              "<div id=\"df-4d742f90-7a40-438c-8b67-84bbf000bf02\">\n",
              "  <button class=\"colab-df-quickchart\" onclick=\"quickchart('df-4d742f90-7a40-438c-8b67-84bbf000bf02')\"\n",
              "            title=\"Suggest charts\"\n",
              "            style=\"display:none;\">\n",
              "\n",
              "<svg xmlns=\"http://www.w3.org/2000/svg\" height=\"24px\"viewBox=\"0 0 24 24\"\n",
              "     width=\"24px\">\n",
              "    <g>\n",
              "        <path d=\"M19 3H5c-1.1 0-2 .9-2 2v14c0 1.1.9 2 2 2h14c1.1 0 2-.9 2-2V5c0-1.1-.9-2-2-2zM9 17H7v-7h2v7zm4 0h-2V7h2v10zm4 0h-2v-4h2v4z\"/>\n",
              "    </g>\n",
              "</svg>\n",
              "  </button>\n",
              "\n",
              "<style>\n",
              "  .colab-df-quickchart {\n",
              "      --bg-color: #E8F0FE;\n",
              "      --fill-color: #1967D2;\n",
              "      --hover-bg-color: #E2EBFA;\n",
              "      --hover-fill-color: #174EA6;\n",
              "      --disabled-fill-color: #AAA;\n",
              "      --disabled-bg-color: #DDD;\n",
              "  }\n",
              "\n",
              "  [theme=dark] .colab-df-quickchart {\n",
              "      --bg-color: #3B4455;\n",
              "      --fill-color: #D2E3FC;\n",
              "      --hover-bg-color: #434B5C;\n",
              "      --hover-fill-color: #FFFFFF;\n",
              "      --disabled-bg-color: #3B4455;\n",
              "      --disabled-fill-color: #666;\n",
              "  }\n",
              "\n",
              "  .colab-df-quickchart {\n",
              "    background-color: var(--bg-color);\n",
              "    border: none;\n",
              "    border-radius: 50%;\n",
              "    cursor: pointer;\n",
              "    display: none;\n",
              "    fill: var(--fill-color);\n",
              "    height: 32px;\n",
              "    padding: 0;\n",
              "    width: 32px;\n",
              "  }\n",
              "\n",
              "  .colab-df-quickchart:hover {\n",
              "    background-color: var(--hover-bg-color);\n",
              "    box-shadow: 0 1px 2px rgba(60, 64, 67, 0.3), 0 1px 3px 1px rgba(60, 64, 67, 0.15);\n",
              "    fill: var(--button-hover-fill-color);\n",
              "  }\n",
              "\n",
              "  .colab-df-quickchart-complete:disabled,\n",
              "  .colab-df-quickchart-complete:disabled:hover {\n",
              "    background-color: var(--disabled-bg-color);\n",
              "    fill: var(--disabled-fill-color);\n",
              "    box-shadow: none;\n",
              "  }\n",
              "\n",
              "  .colab-df-spinner {\n",
              "    border: 2px solid var(--fill-color);\n",
              "    border-color: transparent;\n",
              "    border-bottom-color: var(--fill-color);\n",
              "    animation:\n",
              "      spin 1s steps(1) infinite;\n",
              "  }\n",
              "\n",
              "  @keyframes spin {\n",
              "    0% {\n",
              "      border-color: transparent;\n",
              "      border-bottom-color: var(--fill-color);\n",
              "      border-left-color: var(--fill-color);\n",
              "    }\n",
              "    20% {\n",
              "      border-color: transparent;\n",
              "      border-left-color: var(--fill-color);\n",
              "      border-top-color: var(--fill-color);\n",
              "    }\n",
              "    30% {\n",
              "      border-color: transparent;\n",
              "      border-left-color: var(--fill-color);\n",
              "      border-top-color: var(--fill-color);\n",
              "      border-right-color: var(--fill-color);\n",
              "    }\n",
              "    40% {\n",
              "      border-color: transparent;\n",
              "      border-right-color: var(--fill-color);\n",
              "      border-top-color: var(--fill-color);\n",
              "    }\n",
              "    60% {\n",
              "      border-color: transparent;\n",
              "      border-right-color: var(--fill-color);\n",
              "    }\n",
              "    80% {\n",
              "      border-color: transparent;\n",
              "      border-right-color: var(--fill-color);\n",
              "      border-bottom-color: var(--fill-color);\n",
              "    }\n",
              "    90% {\n",
              "      border-color: transparent;\n",
              "      border-bottom-color: var(--fill-color);\n",
              "    }\n",
              "  }\n",
              "</style>\n",
              "\n",
              "  <script>\n",
              "    async function quickchart(key) {\n",
              "      const quickchartButtonEl =\n",
              "        document.querySelector('#' + key + ' button');\n",
              "      quickchartButtonEl.disabled = true;  // To prevent multiple clicks.\n",
              "      quickchartButtonEl.classList.add('colab-df-spinner');\n",
              "      try {\n",
              "        const charts = await google.colab.kernel.invokeFunction(\n",
              "            'suggestCharts', [key], {});\n",
              "      } catch (error) {\n",
              "        console.error('Error during call to suggestCharts:', error);\n",
              "      }\n",
              "      quickchartButtonEl.classList.remove('colab-df-spinner');\n",
              "      quickchartButtonEl.classList.add('colab-df-quickchart-complete');\n",
              "    }\n",
              "    (() => {\n",
              "      let quickchartButtonEl =\n",
              "        document.querySelector('#df-4d742f90-7a40-438c-8b67-84bbf000bf02 button');\n",
              "      quickchartButtonEl.style.display =\n",
              "        google.colab.kernel.accessAllowed ? 'block' : 'none';\n",
              "    })();\n",
              "  </script>\n",
              "</div>\n",
              "\n",
              "    </div>\n",
              "  </div>\n"
            ],
            "application/vnd.google.colaboratory.intrinsic+json": {
              "type": "dataframe",
              "summary": "{\n  \"name\": \"df\",\n  \"rows\": 8,\n  \"fields\": [\n    {\n      \"column\": \"long_hair\",\n      \"properties\": {\n        \"dtype\": \"number\",\n        \"std\": 1767.857585049711,\n        \"min\": 0.0,\n        \"max\": 5001.0,\n        \"num_unique_values\": 5,\n        \"samples\": [\n          0.869626074785043,\n          1.0,\n          0.3367480365970522\n        ],\n        \"semantic_type\": \"\",\n        \"description\": \"\"\n      }\n    },\n    {\n      \"column\": \"forehead_width_cm\",\n      \"properties\": {\n        \"dtype\": \"number\",\n        \"std\": 1764.0607303687007,\n        \"min\": 1.1071283024945044,\n        \"max\": 5001.0,\n        \"num_unique_values\": 8,\n        \"samples\": [\n          13.18148370325935,\n          13.1,\n          5001.0\n        ],\n        \"semantic_type\": \"\",\n        \"description\": \"\"\n      }\n    },\n    {\n      \"column\": \"forehead_height_cm\",\n      \"properties\": {\n        \"dtype\": \"number\",\n        \"std\": 1766.278733606236,\n        \"min\": 0.5412678510891585,\n        \"max\": 5001.0,\n        \"num_unique_values\": 8,\n        \"samples\": [\n          5.946310737852429,\n          5.9,\n          5001.0\n        ],\n        \"semantic_type\": \"\",\n        \"description\": \"\"\n      }\n    },\n    {\n      \"column\": \"nose_wide\",\n      \"properties\": {\n        \"dtype\": \"number\",\n        \"std\": 1767.9693398889374,\n        \"min\": 0.0,\n        \"max\": 5001.0,\n        \"num_unique_values\": 5,\n        \"samples\": [\n          0.4939012197560488,\n          1.0,\n          0.5000127972767416\n        ],\n        \"semantic_type\": \"\",\n        \"description\": \"\"\n      }\n    },\n    {\n      \"column\": \"nose_long\",\n      \"properties\": {\n        \"dtype\": \"number\",\n        \"std\": 1767.9181265607622,\n        \"min\": 0.0,\n        \"max\": 5001.0,\n        \"num_unique_values\": 5,\n        \"samples\": [\n          0.5078984203159368,\n          1.0,\n          0.49998760232580175\n        ],\n        \"semantic_type\": \"\",\n        \"description\": \"\"\n      }\n    },\n    {\n      \"column\": \"lips_thin\",\n      \"properties\": {\n        \"dtype\": \"number\",\n        \"std\": 1767.9693808078073,\n        \"min\": 0.0,\n        \"max\": 5001.0,\n        \"num_unique_values\": 5,\n        \"samples\": [\n          0.4931013797240552,\n          1.0,\n          0.5000023995143383\n        ],\n        \"semantic_type\": \"\",\n        \"description\": \"\"\n      }\n    },\n    {\n      \"column\": \"distance_nose_to_lip_long\",\n      \"properties\": {\n        \"dtype\": \"number\",\n        \"std\": 1767.969085611321,\n        \"min\": 0.0,\n        \"max\": 5001.0,\n        \"num_unique_values\": 5,\n        \"samples\": [\n          0.4989002199560088,\n          1.0,\n          0.5000487878616962\n        ],\n        \"semantic_type\": \"\",\n        \"description\": \"\"\n      }\n    },\n    {\n      \"column\": \"gender\",\n      \"properties\": {\n        \"dtype\": \"number\",\n        \"std\": 1767.9690350589385,\n        \"min\": 0.0,\n        \"max\": 5001.0,\n        \"num_unique_values\": 5,\n        \"samples\": [\n          0.4999000199960008,\n          1.0,\n          0.500049987503249\n        ],\n        \"semantic_type\": \"\",\n        \"description\": \"\"\n      }\n    }\n  ]\n}"
            }
          },
          "metadata": {},
          "execution_count": 12
        }
      ]
    },
    {
      "cell_type": "markdown",
      "source": [
        "Summary Statistics:\n",
        "This is the summary statistics for eight different features (columns) for the dataset.Each row represents a specific statistical measure (such as mean, standard deviation, minimum, quartiles, and maximum) for each feature  (pandas.pydata.org, n.d).\n",
        "\n",
        "Column Descriptions:\n",
        "\n",
        "Let’s break down what each column represents:\n",
        "count: The count of non-missing values for each feature.\n",
        "mean: The average (mean) value of each feature across all observations.\n",
        "std: The standard deviation, which measures the spread or variability of the values.\n",
        "min: The minimum value observed for each feature.\n",
        "25%, 50%, and 75%: These represent the quartiles (percentiles) of the data  (pandas.pydata.org, n.d).\n",
        "\n",
        "For example:\n",
        "25% (first quartile) indicates the value below which 25% of the data falls.50% (second quartile or median) represents the middle value of the data.75% (third quartile) indicates the value below which 75% of the data falls.max: The maximum value observed for each feature  (pandas.pydata.org, n.d).\n",
        "\n",
        "Interpretation:\n",
        "\n",
        "Let’s look at some specific examples:\n",
        "\n",
        "long_hair:\n",
        "The mean value of long_hair is approximately 0.87, suggesting that most observations have long hair (since it’s close to 1).\n",
        "The standard deviation (std) is around 0.34, indicating moderate variability  (pandas.pydata.org, n.d).\n",
        "\n",
        "forehead_width_cm:\n",
        "The average forehead width is approximately 13.18 cm.\n",
        "The spread of values (std) is relatively low (around 1.11 cm).\n",
        "\n",
        "nose_wide:\n",
        "The mean value is approximately 0.49, indicating that about half of the observations have a wide nose.\n",
        "The standard deviation is close to 0.5, suggesting variability.\n",
        "\n",
        "gender:\n",
        "Since the mean is close to 0.5, it seems that the dataset is balanced between male (1) and female (0) gender labels.\n",
        "Quartiles and Spread:\n",
        "The quartiles (25%, 50%, and 75%) provide insights into the distribution of each feature.\n",
        "\n",
        "For example:\n",
        "\n",
        "The median (50%) value for forehead_width_cm is around 13.1 cm, which represents the middle value.\n",
        "The range between the first quartile (25%) and third quartile (75%) gives an idea of the spread of data around the median.\n",
        "\n",
        "Overall:\n",
        "These summary statistics helps us understand the central tendency, variability, and distribution of the dataset.Considering these values in the context of the specific analysis or modeling task.Interpreting summary statistics is essential for understanding the data and making informed decisions during analysis or modeling  (pandas.pydata.org, n.d)."
      ],
      "metadata": {
        "id": "vokpAsIAn30q"
      }
    },
    {
      "cell_type": "code",
      "source": [
        "df['gender'].value_counts()"
      ],
      "metadata": {
        "colab": {
          "base_uri": "https://localhost:8080/"
        },
        "id": "Giye87iPPwkI",
        "outputId": "ab7d8708-6bff-466f-a54e-f62cb909dde3"
      },
      "execution_count": 13,
      "outputs": [
        {
          "output_type": "execute_result",
          "data": {
            "text/plain": [
              "gender\n",
              "0    2501\n",
              "1    2500\n",
              "Name: count, dtype: int64"
            ]
          },
          "metadata": {},
          "execution_count": 13
        }
      ]
    },
    {
      "cell_type": "markdown",
      "source": [
        "The purpose is to examine the distribution of gender labels within a dataset. Let’s break down the explanation:\n",
        "\n",
        "Dataset Description:\n",
        "The dataset contains information related to gender.The column labeled “count” represents the number of occurrences for each gender label (Zach, 2022).\n",
        "\n",
        "Specifically:\n",
        "There are 2501 occurrences labeled as 0 (representing females).\n",
        "There are 2500 occurrences labeled as 1 (representing males).\n",
        "\n",
        "Interpretation:\n",
        "The balanced distribution (approximately equal counts for both genders) suggests that the dataset is well-suited for gender-related analyses or modeling tasks.In machine learning, balanced datasets help prevent bias toward one class during model training (Zach, 2022).\n",
        "\n",
        "Considerations:\n",
        "Further analysis could involve exploring relationships between gender and other variables or building predictive models based on these gender labels (Zach, 2022).\n",
        "\n",
        "In summary, this analysis provides an overview of gender distribution, which can be valuable for various applications, including demographic studies, marketing, and personalized recommendations (Zach, 2022)."
      ],
      "metadata": {
        "id": "oISm7lzZqLIp"
      }
    },
    {
      "cell_type": "code",
      "source": [
        "plt.figure(figsize=(10,6))\n",
        "plt.pie(df['gender'].value_counts(),autopct='%1.2f%%', startangle=90)\n",
        "plt.axis('equal')\n",
        "plt.title(\"Female and Male\")\n",
        "plt.show()"
      ],
      "metadata": {
        "colab": {
          "base_uri": "https://localhost:8080/",
          "height": 521
        },
        "id": "bnMeOw3aQYYR",
        "outputId": "4351440b-b00c-4818-cc40-fb467802b6b6"
      },
      "execution_count": 14,
      "outputs": [
        {
          "output_type": "display_data",
          "data": {
            "text/plain": [
              "<Figure size 1000x600 with 1 Axes>"
            ],
            "image/png": "[encoded data removed]"
          },
          "metadata": {}
        }
      ]
    },
    {
      "cell_type": "markdown",
      "source": [
        "When the proportion of males and females (50.01% and 49.99%) in the pie chart is almost equal, the dataset's gender representation is balanced. Because it guarantees that there are enough data for both the male and female classes' model training, this balance is advantageous to the classification analysis. Because the value counts for each gender category are near together, there are less problems with class imbalance and more accurate forecasts are made  (www.w3schools.com, n.d.)."
      ],
      "metadata": {
        "id": "G2TwdxfC47WT"
      }
    },
    {
      "cell_type": "code",
      "source": [
        "X = df.drop('gender', axis=1)\n",
        "y = df['gender']"
      ],
      "metadata": {
        "id": "S71xg02JUofN"
      },
      "execution_count": 15,
      "outputs": []
    },
    {
      "cell_type": "markdown",
      "source": [
        "X = df.drop('gender', axis=1):\n",
        "This line creates a new DataFrame X by removing the column labeled ‘gender’ from the original DataFrame df.\n",
        "The drop() method is used to exclude specific columns or rows from a DataFrame.The axis=1 argument specifies that we want to drop a column (as opposed to a row).The resulting DataFrame X contains all the features (columns) except for the ‘gender’ column (Zach, 2022).\n",
        "\n",
        "y = df['gender']:\n",
        "This line creates a new Series (often used as the target variable) called y.It extracts the values from the ‘gender’ column of the original DataFrame df.The Series y now contains the gender labels (encoded as 0 for female and 1 for male) (Zach, 2022).\n",
        "\n",
        "In summary, X represents the feature matrix (input variables), excluding the gender column, while y represents the target variable (gender labels). These are common steps when preparing data for machine learning tasks (Zach, 2022)."
      ],
      "metadata": {
        "id": "RsLn1y8LsSEh"
      }
    },
    {
      "cell_type": "code",
      "source": [
        "# Perform correlation analysis (optional)\n",
        "correlation_matrix = X.corr()"
      ],
      "metadata": {
        "id": "qDQ6bNgjTgVR"
      },
      "execution_count": 16,
      "outputs": []
    },
    {
      "cell_type": "markdown",
      "source": [
        "Is a statistical technique used to evaluate the strength and direction of the relationship between two or more variables.\n",
        "\n",
        "Here’s why we perform correlation analysis:\n",
        "\n",
        "Understanding Relationships:\n",
        "Correlation analysis helps us understand how variables are related to each other.By examining correlations, we can identify patterns, trends, and dependencies between the gender and the 7 characteristics (Geeksforgeeks, 2018).\n",
        "\n",
        "Forecasting and Prediction:\n",
        "Correlations provide insights into future occurrences.\n",
        "If two variables are strongly correlated, changes in one may predict changes in the other.\n",
        "Forecasting models often rely on historical correlations to make predictions (Geeksforgeeks, 2018)."
      ],
      "metadata": {
        "id": "T5vc_kA9uUXG"
      }
    },
    {
      "cell_type": "code",
      "source": [
        "plt.figure(figsize=(8, 8))\n",
        "sns.heatmap(correlation_matrix, annot=True, cmap='coolwarm', cbar=True, square=True)\n",
        "plt.title('Correlation ')\n",
        "plt.show()"
      ],
      "metadata": {
        "colab": {
          "base_uri": "https://localhost:8080/",
          "height": 788
        },
        "id": "KNnVZ9dzUzm9",
        "outputId": "2edc7036-7c34-46e1-8070-479497cc21c4"
      },
      "execution_count": 18,
      "outputs": [
        {
          "output_type": "display_data",
          "data": {
            "text/plain": [
              "<Figure size 800x800 with 2 Axes>"
            ],
            "image/png": "[encoded data removed]"
          },
          "metadata": {}
        }
      ]
    },
    {
      "cell_type": "markdown",
      "source": [
        "Here’s what each line does:\n",
        "\n",
        "plt.figure(figsize=(8, 8)): Sets the figure size for the heatmap.\n",
        "sns.heatmap(correlation_matrix, annot=True, cmap='coolwarm', cbar=True, square=True): Creates the heatmap.\n",
        "correlation_matrix: The correlation matrix (calculated earlier).\n",
        "annot=True: Displays the correlation coefficients as annotations within the cells (Rosseel, R. 2021).\n",
        "cmap='coolwarm': Specifies the color map (cool to warm colors).\n",
        "cbar=True: Includes a color bar to indicate the correlation scale.\n",
        "square=True: Ensures the heatmap cells are square.\n",
        "plt.title('Correlation '): Sets the title for the heatmap.\n",
        "plt.show(): Displays the heatmap (Rosseel, R. 2021).\n",
        "\n",
        "Interpretation of the Heatmap:\n",
        "The heatmap visually represents the correlation coefficients between pairs of features (Rosseel, R. 2021).\n",
        "\n",
        "Color Intensity:\n",
        "Dark blue indicates strong negative correlation.\n",
        "Dark red indicates strong positive correlation.\n",
        "Lighter colors represent weaker correlations.\n",
        "\n",
        "Diagonal Line:\n",
        "The diagonal line (from top-left to bottom-right) represents self-correlations (each feature with itself) and is always 1.0.\n",
        "\n",
        "Focus on the off-diagonal cells:\n",
        "Positive values (closer to 1) indicate that the features move together (positively correlated).Negative values (closer to -1) indicate that the features move in opposite directions (negatively correlated).\n",
        "Values close to 0 suggest weak or no linear relationship (Rosseel, R. 2021).\n",
        "\n",
        "Usefulness:\n",
        "Identifies strong correlations (positive or negative) that may impact the analysis or modelling.We can consider removing highly correlated features to avoid multicollinearity in regression models (Rosseel, R. 2021).\n",
        "\n",
        "Model Implications:\n",
        "High positive correlations between features may lead to redundancy.\n",
        "High negative correlations can help identify trade-offs (when one feature increases, the other decreases) (Rosseel, R. 2021).\n",
        "Understanding correlations guides feature selection, model building, and interpretation.In summary, the heatmap provides valuable insights into feature relationships, helping you make informed decisions during data analysis and modelling (Rosseel, R. 2021)."
      ],
      "metadata": {
        "id": "mHUpgxvQw9nv"
      }
    },
    {
      "cell_type": "code",
      "source": [
        "# Here I use standardScaler to put the data into the same scale\n",
        "\n",
        "from sklearn.preprocessing import StandardScaler\n",
        "scaler = StandardScaler()\n",
        "scaler.fit_transform(X)"
      ],
      "metadata": {
        "colab": {
          "base_uri": "https://localhost:8080/"
        },
        "id": "odH4QOI5BXeD",
        "outputId": "cc0d0366-2245-43db-b4d1-20da490c23fc"
      },
      "execution_count": 19,
      "outputs": [
        {
          "output_type": "execute_result",
          "data": {
            "text/plain": [
              "array([[ 0.38719442, -1.24793291,  0.28397148, ..., -1.01592361,\n",
              "         1.01389375,  1.00220198],\n",
              "       [-2.58268182,  0.73938869, -1.00941773, ..., -1.01592361,\n",
              "         1.01389375, -0.99780285],\n",
              "       [-2.58268182, -1.24793291,  0.65351125, ...,  0.98432598,\n",
              "         1.01389375,  1.00220198],\n",
              "       ...,\n",
              "       [ 0.38719442, -0.25427211, -0.45510807, ..., -1.01592361,\n",
              "        -0.98629664, -0.99780285],\n",
              "       [ 0.38719442,  0.01672629,  0.46874136, ..., -1.01592361,\n",
              "        -0.98629664, -0.99780285],\n",
              "       [ 0.38719442,  2.00404789, -1.00941773, ...,  0.98432598,\n",
              "         1.01389375,  1.00220198]])"
            ]
          },
          "metadata": {},
          "execution_count": 19
        }
      ]
    },
    {
      "cell_type": "markdown",
      "source": [
        "This represents the transformed data after applying the StandardScaler.\n",
        "Each row corresponds to an observation and each column represents a feature.The values in the array have been scaled such that each feature has a mean of 0 and a standard deviation of 1(Stack Overflow, n.d)(Stack Overflow, n.d).\n",
        "\n",
        "Explanation:\n",
        "Standardization (or normalization) is a common preprocessing step in machine learning (Stack Overflow, n.d).\n",
        "\n",
        "Here’s why we use it:\n",
        "Equal Scale: Different features often have different scales.Standardization ensures that all features are on the same scale.\n",
        "Algorithm Behavior: Many machine learning algorithms (e.g., SVM, k-means, gradient descent) assume that features are centered around 0 and have similar variances.Gradient Descent: In optimization algorithms like gradient descent, standardization helps the algorithm converge faster by avoiding skewed gradients due to different scales.\n",
        "Regularization: Regularization terms (e.g., L1, L2) penalize large coefficients. Standardization prevents features with larger scales from dominating the regularization term(Stack Overflow, n.d).\n",
        "\n",
        "How StandardScaler Works:\n",
        "For each feature (column) in the dataset:\n",
        "We Subtract the mean (average) of that feature from each value.\n",
        "Divide the result by the standard deviation of that feature.\n",
        "This process ensures that each feature has a mean of 0 and a standard deviation of 1.The transformed data is centered around 0 and has a consistent scale (Stack Overflow, n.d).\n",
        "\n",
        "Interpretation of Results:\n",
        "The transformed data now adheres to the following properties:\n",
        "Mean: The mean of each feature is approximately 0 (e.g., scaled_data.mean(axis=0) yields [0., 0.]) (Stack Overflow, n.d).\n",
        "Standard Deviation: The standard deviation of each feature is approximately 1 (e.g., scaled_data.std(axis=0) yields [1., 1.]).\n",
        "Relative Relationships: The relative relationships between feature values are preserved. Scaling doesn’t alter the shape of the distribution; it only shifts and scales it (Stack Overflow, n.d).\n",
        "\n",
        "Conclusion:\n",
        "StandardScaler ensures that your features are comparable and ready for machine learning models.It doesn’t change the underlying relationships between features but prepares them for consistent processing.\n",
        "In summary, standardizing the dataset using StandardScaler is crucial for achieving better model performance and ensuring fair treatment of all features during modeling (Stack Overflow, n.d)."
      ],
      "metadata": {
        "id": "bkCe4M_v0bDJ"
      }
    },
    {
      "cell_type": "markdown",
      "source": [
        "# **#  STEP 4: IMPORT TRAIN_TEST_SPLIT**"
      ],
      "metadata": {
        "id": "l7Wx_bpoIJuh"
      }
    },
    {
      "cell_type": "code",
      "source": [
        "from sklearn.model_selection import train_test_split\n",
        "X_train, X_test,y_train,y_test = train_test_split(X,y,test_size=0.2,random_state=45)"
      ],
      "metadata": {
        "id": "sCaaEIMsW4Sl"
      },
      "execution_count": 20,
      "outputs": []
    },
    {
      "cell_type": "markdown",
      "source": [
        "The train-test split is a critical step in the machine learning pipeline.It ensures that the model is capable of generalizing well to new, unseen data (Stack Overflow, n.d).\n",
        "\n",
        "Specifically, we split the dataset into two subsets:\n",
        "Training set: Used to train the machine learning algorithm and build the model.\n",
        "Test set: Used to evaluate how accurately the model performs on unseen data."
      ],
      "metadata": {
        "id": "kuzZGdmw3eSH"
      }
    },
    {
      "cell_type": "markdown",
      "source": [
        "# **STEP 5 : IMPORT K-NN TO PERFORM ANALYSIS**"
      ],
      "metadata": {
        "id": "vmMqfP07IoBQ"
      }
    },
    {
      "cell_type": "code",
      "source": [
        "from sklearn.neighbors import KNeighborsClassifier\n",
        "from sklearn.model_selection import cross_val_score\n",
        "from sklearn.metrics import accuracy_score,classification_report,confusion_matrix,recall_score,f1_score,precision_score"
      ],
      "metadata": {
        "id": "2NMXSCh_XJt1"
      },
      "execution_count": 21,
      "outputs": []
    },
    {
      "cell_type": "code",
      "source": [
        "k_range=range(1,31)"
      ],
      "metadata": {
        "id": "YVriD-kdX6ZF"
      },
      "execution_count": 22,
      "outputs": []
    },
    {
      "cell_type": "markdown",
      "source": [
        "The k_range from 1 to 31 represents a range of values for the parameter k in the K-Nearest Neighbors (KNN) algorithm. When training the KNN model, different values of k are tested to find the one that results in the best performance. Essentially, it explores how many neighbors should be considered when making predictions, allowing us to strike a balance between bias and variance in the model (www.bing.com, n.d)."
      ],
      "metadata": {
        "id": "CoDOS43c9B2d"
      }
    },
    {
      "cell_type": "code",
      "source": [
        "k_scores=[]"
      ],
      "metadata": {
        "id": "smCaGZcDYFOq"
      },
      "execution_count": 23,
      "outputs": []
    },
    {
      "cell_type": "code",
      "source": [
        "for k in k_range:\n",
        "  knn = KNeighborsClassifier(n_neighbors=k)\n",
        "  scores = cross_val_score(knn, X, y, cv=10, scoring='accuracy')\n",
        "  k_scores.append(scores.mean())"
      ],
      "metadata": {
        "id": "0Rv_I8nUYjPa"
      },
      "execution_count": 24,
      "outputs": []
    },
    {
      "cell_type": "markdown",
      "source": [
        "The purpose of this analysis is to find the optimal value of k (number of neighbors) for the K-Nearest Neighbors (KNN) algorithm. It does so by evaluating the model’s accuracy using cross-validation across different k values. The goal is to choose the k that results in the best overall performance (www.bing.com, n.d)."
      ],
      "metadata": {
        "id": "ccq3Ca9E7zbM"
      }
    },
    {
      "cell_type": "code",
      "source": [
        "optimal_k = k_range[np.argmax(k_scores)]\n",
        "print(\"Optimal value of k:\",optimal_k)"
      ],
      "metadata": {
        "colab": {
          "base_uri": "https://localhost:8080/"
        },
        "id": "ljyXU3wzZ27c",
        "outputId": "c2b28a42-cd05-430e-efd9-058f2994cba5"
      },
      "execution_count": 25,
      "outputs": [
        {
          "output_type": "stream",
          "name": "stdout",
          "text": [
            "Optimal value of k: 24\n"
          ]
        }
      ]
    },
    {
      "cell_type": "code",
      "source": [
        "#Instance of a KNeighborsClassifier() model named knn.\n",
        "knn = KNeighborsClassifier(n_neighbors = 24)"
      ],
      "metadata": {
        "id": "6QJJPZxPbBQE"
      },
      "execution_count": 26,
      "outputs": []
    },
    {
      "cell_type": "markdown",
      "source": [
        "n_neighbors=24 means that the KNN model will use the 24 nearest neighbors to make predictions.\n",
        "When a new data point needs classification, the model will find the 24 closest data points (based on a distance metric) and determine the majority class among those neighbors."
      ],
      "metadata": {
        "id": "vYhIYNg28qpl"
      }
    },
    {
      "cell_type": "code",
      "source": [
        "knn.fit(X_train,y_train)"
      ],
      "metadata": {
        "colab": {
          "base_uri": "https://localhost:8080/",
          "height": 75
        },
        "id": "qU73v9RZbZXw",
        "outputId": "eab4f4e2-1c28-4429-eb50-9a14c7339b30"
      },
      "execution_count": 27,
      "outputs": [
        {
          "output_type": "execute_result",
          "data": {
            "text/plain": [
              "KNeighborsClassifier(n_neighbors=24)"
            ],
            "text/html": [
              "<style>#sk-container-id-1 {color: black;background-color: white;}#sk-container-id-1 pre{padding: 0;}#sk-container-id-1 div.sk-toggleable {background-color: white;}#sk-container-id-1 label.sk-toggleable__label {cursor: pointer;display: block;width: 100%;margin-bottom: 0;padding: 0.3em;box-sizing: border-box;text-align: center;}#sk-container-id-1 label.sk-toggleable__label-arrow:before {content: \"▸\";float: left;margin-right: 0.25em;color: #696969;}#sk-container-id-1 label.sk-toggleable__label-arrow:hover:before {color: black;}#sk-container-id-1 div.sk-estimator:hover label.sk-toggleable__label-arrow:before {color: black;}#sk-container-id-1 div.sk-toggleable__content {max-height: 0;max-width: 0;overflow: hidden;text-align: left;background-color: #f0f8ff;}#sk-container-id-1 div.sk-toggleable__content pre {margin: 0.2em;color: black;border-radius: 0.25em;background-color: #f0f8ff;}#sk-container-id-1 input.sk-toggleable__control:checked~div.sk-toggleable__content {max-height: 200px;max-width: 100%;overflow: auto;}#sk-container-id-1 input.sk-toggleable__control:checked~label.sk-toggleable__label-arrow:before {content: \"▾\";}#sk-container-id-1 div.sk-estimator input.sk-toggleable__control:checked~label.sk-toggleable__label {background-color: #d4ebff;}#sk-container-id-1 div.sk-label input.sk-toggleable__control:checked~label.sk-toggleable__label {background-color: #d4ebff;}#sk-container-id-1 input.sk-hidden--visually {border: 0;clip: rect(1px 1px 1px 1px);clip: rect(1px, 1px, 1px, 1px);height: 1px;margin: -1px;overflow: hidden;padding: 0;position: absolute;width: 1px;}#sk-container-id-1 div.sk-estimator {font-family: monospace;background-color: #f0f8ff;border: 1px dotted black;border-radius: 0.25em;box-sizing: border-box;margin-bottom: 0.5em;}#sk-container-id-1 div.sk-estimator:hover {background-color: #d4ebff;}#sk-container-id-1 div.sk-parallel-item::after {content: \"\";width: 100%;border-bottom: 1px solid gray;flex-grow: 1;}#sk-container-id-1 div.sk-label:hover label.sk-toggleable__label {background-color: #d4ebff;}#sk-container-id-1 div.sk-serial::before {content: \"\";position: absolute;border-left: 1px solid gray;box-sizing: border-box;top: 0;bottom: 0;left: 50%;z-index: 0;}#sk-container-id-1 div.sk-serial {display: flex;flex-direction: column;align-items: center;background-color: white;padding-right: 0.2em;padding-left: 0.2em;position: relative;}#sk-container-id-1 div.sk-item {position: relative;z-index: 1;}#sk-container-id-1 div.sk-parallel {display: flex;align-items: stretch;justify-content: center;background-color: white;position: relative;}#sk-container-id-1 div.sk-item::before, #sk-container-id-1 div.sk-parallel-item::before {content: \"\";position: absolute;border-left: 1px solid gray;box-sizing: border-box;top: 0;bottom: 0;left: 50%;z-index: -1;}#sk-container-id-1 div.sk-parallel-item {display: flex;flex-direction: column;z-index: 1;position: relative;background-color: white;}#sk-container-id-1 div.sk-parallel-item:first-child::after {align-self: flex-end;width: 50%;}#sk-container-id-1 div.sk-parallel-item:last-child::after {align-self: flex-start;width: 50%;}#sk-container-id-1 div.sk-parallel-item:only-child::after {width: 0;}#sk-container-id-1 div.sk-dashed-wrapped {border: 1px dashed gray;margin: 0 0.4em 0.5em 0.4em;box-sizing: border-box;padding-bottom: 0.4em;background-color: white;}#sk-container-id-1 div.sk-label label {font-family: monospace;font-weight: bold;display: inline-block;line-height: 1.2em;}#sk-container-id-1 div.sk-label-container {text-align: center;}#sk-container-id-1 div.sk-container {/* jupyter's `normalize.less` sets `[hidden] { display: none; }` but bootstrap.min.css set `[hidden] { display: none !important; }` so we also need the `!important` here to be able to override the default hidden behavior on the sphinx rendered scikit-learn.org. See: https://github.com/scikit-learn/scikit-learn/issues/21755 */display: inline-block !important;position: relative;}#sk-container-id-1 div.sk-text-repr-fallback {display: none;}</style><div id=\"sk-container-id-1\" class=\"sk-top-container\"><div class=\"sk-text-repr-fallback\"><pre>KNeighborsClassifier(n_neighbors=24)</pre><b>In a Jupyter environment, please rerun this cell to show the HTML representation or trust the notebook. <br />On GitHub, the HTML representation is unable to render, please try loading this page with nbviewer.org.</b></div><div class=\"sk-container\" hidden><div class=\"sk-item\"><div class=\"sk-estimator sk-toggleable\"><input class=\"sk-toggleable__control sk-hidden--visually\" id=\"sk-estimator-id-1\" type=\"checkbox\" checked><label for=\"sk-estimator-id-1\" class=\"sk-toggleable__label sk-toggleable__label-arrow\">KNeighborsClassifier</label><div class=\"sk-toggleable__content\"><pre>KNeighborsClassifier(n_neighbors=24)</pre></div></div></div></div></div>"
            ]
          },
          "metadata": {},
          "execution_count": 27
        }
      ]
    },
    {
      "cell_type": "markdown",
      "source": [
        "this step trains the KNN model using the provided training data, allowing it to learn patterns and relationships between features and labels."
      ],
      "metadata": {
        "id": "HKDqrWFL8OwY"
      }
    },
    {
      "cell_type": "code",
      "source": [
        "#Predict the class labels from the test data using the KNeighbors Classifier model\n",
        "\n",
        "pred = knn.predict(X_test)"
      ],
      "metadata": {
        "id": "XeQeRqoNb9ac"
      },
      "execution_count": 28,
      "outputs": []
    },
    {
      "cell_type": "code",
      "source": [
        "report = classification_report(y_test,pred)\n",
        "print(report)"
      ],
      "metadata": {
        "colab": {
          "base_uri": "https://localhost:8080/"
        },
        "id": "bSfeGRi7bzOV",
        "outputId": "721a9207-861d-4ade-b10c-52ae7ccb8c58"
      },
      "execution_count": 29,
      "outputs": [
        {
          "output_type": "stream",
          "name": "stdout",
          "text": [
            "              precision    recall  f1-score   support\n",
            "\n",
            "           0       0.96      0.98      0.97       502\n",
            "           1       0.98      0.96      0.97       499\n",
            "\n",
            "    accuracy                           0.97      1001\n",
            "   macro avg       0.97      0.97      0.97      1001\n",
            "weighted avg       0.97      0.97      0.97      1001\n",
            "\n"
          ]
        }
      ]
    },
    {
      "cell_type": "markdown",
      "source": [
        "Precision is the percentage of all positive predictions (including true positives and false positives) that are true positives (i.e., accurately forecasted as \"Male\" or \"Female\").\n",
        "The accuracy for class \"0\" (\"Female\") is 0.96, which indicates that 96% of the occurrences of \"Female\" that were predicted were, in fact, \"Female\" (www.bing.com, 2022).\n",
        "The accuracy for class \"1\" (\"Male\") is 0.98, meaning that 98% of the instances of \"Male\" that were predicted were indeed \"Male.\"\n",
        "Sensitivity or recall measures how many accurate positive predictions there are among all real positive examples (true positives and false negatives) (www.bing.com, 2022).\n",
        "With a recall of 0.98 for class \"0,\" 98% of the real \"Female\" cases were likely accurately recognized.\n",
        "Recall for class \"1\" is 0.96, meaning that 96% of the real \"Male\" occurrences were found correctly (www.bing.com, 2022)."
      ],
      "metadata": {
        "id": "mOw4BOSe-aLp"
      }
    },
    {
      "cell_type": "markdown",
      "source": [
        "F1-Score: The harmonic mean of recall and accuracy is the F1-score. It strikes a balance between the two measures.\n",
        "The F1-score for class \"0\" is 0.97, indicating an excellent recall and accuracy ratio.The F1-score for class \"1\" is likewise 0.97, suggesting a comparable balance (www.bing.com, 2022).\n",
        "\n",
        "Support: The number of instances in every class is represented by support.\n",
        "502 cases of class \"0\" (Female\") and 499 cases of class \"1\" ( \"Male\") are found.\n",
        "Accuracy: The model's total accuracy is 0.97, or 97%.\n",
        "This indicates that 97% of all forecasts—both \"female\" and \"male\"—were accurate.(www.bing.com, 2022).\n",
        "\n",
        "Macro Average and Weighted Average: For both classes, the macro average calculates the average F1-score, precision, and recall.\n",
        "By weighing each class's metrics according to its level of support, the weighted average takes into account class imbalance (www.bing.com, 2022).\n",
        "\n",
        "The weighted and macro averages in this instance are both close to 0.97, demonstrating consistent performance throughout the courses.\n",
        "In conclusion, the classification report demonstrates that the model has good accuracy, recall, and F1-score and can accurately predict both \"Male\" and \"Female\" cases. Reliable evaluation is ensured for both genders by the balanced support (www.bing.com, 2022)."
      ],
      "metadata": {
        "id": "KkgfQ-H4cMV6"
      }
    },
    {
      "cell_type": "code",
      "source": [
        "print(\"Confusion Matrix:\")\n",
        "print(confusion_matrix(y_test, pred))"
      ],
      "metadata": {
        "colab": {
          "base_uri": "https://localhost:8080/"
        },
        "id": "dK3dd5dgdUZC",
        "outputId": "9efbf893-5790-4344-8084-d876f58f6f2a"
      },
      "execution_count": 30,
      "outputs": [
        {
          "output_type": "stream",
          "name": "stdout",
          "text": [
            "Confusion Matrix:\n",
            "[[490  12]\n",
            " [ 18 481]]\n"
          ]
        }
      ]
    },
    {
      "cell_type": "code",
      "source": [
        "from sklearn.metrics import confusion_matrix\n",
        "\n",
        "# Assuming you have the true labels (y_true) and predicted labels (y_pred)\n",
        "cm = confusion_matrix(y_test,pred)\n",
        "\n",
        "# Create a heatmap\n",
        "plt.figure(figsize=(6, 4))\n",
        "sns.heatmap(cm, annot=True, fmt=\"d\", cmap=\"Blues\", cbar=False,\n",
        "            xticklabels=[\"Male\", \"Female\"], yticklabels=[\"Male\", \"Female\"])\n",
        "plt.xlabel(\"Predicted Label\")\n",
        "plt.ylabel(\"True Label\")\n",
        "plt.title(\"Confusion Matrix (K-NN)\")\n",
        "plt.show()"
      ],
      "metadata": {
        "colab": {
          "base_uri": "https://localhost:8080/",
          "height": 410
        },
        "id": "XyW1T_F3ElH6",
        "outputId": "86da431e-e865-4f25-aa03-2c8d0beadded"
      },
      "execution_count": 32,
      "outputs": [
        {
          "output_type": "display_data",
          "data": {
            "text/plain": [
              "<Figure size 600x400 with 1 Axes>"
            ],
            "image/png": "[encoded data removed]"
          },
          "metadata": {}
        }
      ]
    },
    {
      "cell_type": "markdown",
      "source": [
        "\n",
        "Here’s what each term means:\n",
        "True Positive (TP): 481 Instances correctly predicted as “Female” (actual “Female”).\n",
        "True Negative (TN): 490 Instances correctly predicted as “Male” (actual “Male”).\n",
        "False Positive (FP): 12 Instances incorrectly predicted as “Female” (actual “Male”).\n",
        "False Negative (FN): 18 Instances incorrectly predicted as “Male” (actual “Female”).\n",
        "(www.bing.com, 2022)."
      ],
      "metadata": {
        "id": "Ke-aVRfGB4k5"
      }
    },
    {
      "cell_type": "code",
      "source": [
        "import matplotlib.pyplot as plt\n",
        "from sklearn.metrics import roc_curve, auc\n",
        "\n",
        "\n",
        "y_prob = knn.predict_proba(X_test)[:, 1]\n",
        "fpr, tpr, thresholds = roc_curve(y_test, y_prob)\n",
        "\n",
        "\n",
        "roc_auc = auc(fpr, tpr)\n",
        "\n",
        "# Plot the ROC curve\n",
        "plt.figure(figsize=(8, 6))\n",
        "plt.plot(fpr, tpr, color='darkorange', lw=2, label='ROC curve (AUC = %0.2f)' % roc_auc)\n",
        "plt.plot([0, 1], [0, 1], color='navy', lw=2, linestyle='--')\n",
        "plt.xlim([0.0, 1.0])\n",
        "plt.ylim([0.0, 1.05])\n",
        "plt.xlabel('False Positive Rate')\n",
        "plt.ylabel('True Positive Rate')\n",
        "plt.title('Receiver Operating Characteristic (ROC) Curve')\n",
        "plt.legend(loc=\"lower right\")\n",
        "plt.show()"
      ],
      "metadata": {
        "colab": {
          "base_uri": "https://localhost:8080/",
          "height": 564
        },
        "id": "5j_n7MdngOIG",
        "outputId": "4642e38e-424e-41ec-993d-32352caa8f12"
      },
      "execution_count": 33,
      "outputs": [
        {
          "output_type": "display_data",
          "data": {
            "text/plain": [
              "<Figure size 800x600 with 1 Axes>"
            ],
            "image/png": "[encoded data removed]"
          },
          "metadata": {}
        }
      ]
    },
    {
      "cell_type": "markdown",
      "source": [
        "Accuracy of model 99%  ,what does the AUC mean? interprete according to the dataset?"
      ],
      "metadata": {
        "id": "R4hwqH-WgsUa"
      }
    },
    {
      "cell_type": "markdown",
      "source": [
        "My model is overfitting,I must evaluate the knn model.\n",
        "After your AUC Curve for Knn , I need to write and explain why your model is overfitting .Write what could be done to improve overfitting for KNN"
      ],
      "metadata": {
        "id": "EeRnGc7-KsGh"
      }
    },
    {
      "cell_type": "markdown",
      "source": [
        "## **STEP 6: IMPORT NAIVE BAYES TO PERFORM ANALYSIS** **bold text**"
      ],
      "metadata": {
        "id": "EVCHf5RbI2jn"
      }
    },
    {
      "cell_type": "code",
      "source": [
        "from sklearn.naive_bayes import GaussianNB"
      ],
      "metadata": {
        "id": "Q9f5s3w2Ctxi"
      },
      "execution_count": 34,
      "outputs": []
    },
    {
      "cell_type": "code",
      "source": [
        "nb_model = GaussianNB()\n",
        "nb_model.fit(X_train, y_train)"
      ],
      "metadata": {
        "colab": {
          "base_uri": "https://localhost:8080/",
          "height": 75
        },
        "id": "nBWQD_K7DBoJ",
        "outputId": "b48ca09d-9b78-4846-ce17-f58b553769a0"
      },
      "execution_count": 35,
      "outputs": [
        {
          "output_type": "execute_result",
          "data": {
            "text/plain": [
              "GaussianNB()"
            ],
            "text/html": [
              "<style>#sk-container-id-2 {color: black;background-color: white;}#sk-container-id-2 pre{padding: 0;}#sk-container-id-2 div.sk-toggleable {background-color: white;}#sk-container-id-2 label.sk-toggleable__label {cursor: pointer;display: block;width: 100%;margin-bottom: 0;padding: 0.3em;box-sizing: border-box;text-align: center;}#sk-container-id-2 label.sk-toggleable__label-arrow:before {content: \"▸\";float: left;margin-right: 0.25em;color: #696969;}#sk-container-id-2 label.sk-toggleable__label-arrow:hover:before {color: black;}#sk-container-id-2 div.sk-estimator:hover label.sk-toggleable__label-arrow:before {color: black;}#sk-container-id-2 div.sk-toggleable__content {max-height: 0;max-width: 0;overflow: hidden;text-align: left;background-color: #f0f8ff;}#sk-container-id-2 div.sk-toggleable__content pre {margin: 0.2em;color: black;border-radius: 0.25em;background-color: #f0f8ff;}#sk-container-id-2 input.sk-toggleable__control:checked~div.sk-toggleable__content {max-height: 200px;max-width: 100%;overflow: auto;}#sk-container-id-2 input.sk-toggleable__control:checked~label.sk-toggleable__label-arrow:before {content: \"▾\";}#sk-container-id-2 div.sk-estimator input.sk-toggleable__control:checked~label.sk-toggleable__label {background-color: #d4ebff;}#sk-container-id-2 div.sk-label input.sk-toggleable__control:checked~label.sk-toggleable__label {background-color: #d4ebff;}#sk-container-id-2 input.sk-hidden--visually {border: 0;clip: rect(1px 1px 1px 1px);clip: rect(1px, 1px, 1px, 1px);height: 1px;margin: -1px;overflow: hidden;padding: 0;position: absolute;width: 1px;}#sk-container-id-2 div.sk-estimator {font-family: monospace;background-color: #f0f8ff;border: 1px dotted black;border-radius: 0.25em;box-sizing: border-box;margin-bottom: 0.5em;}#sk-container-id-2 div.sk-estimator:hover {background-color: #d4ebff;}#sk-container-id-2 div.sk-parallel-item::after {content: \"\";width: 100%;border-bottom: 1px solid gray;flex-grow: 1;}#sk-container-id-2 div.sk-label:hover label.sk-toggleable__label {background-color: #d4ebff;}#sk-container-id-2 div.sk-serial::before {content: \"\";position: absolute;border-left: 1px solid gray;box-sizing: border-box;top: 0;bottom: 0;left: 50%;z-index: 0;}#sk-container-id-2 div.sk-serial {display: flex;flex-direction: column;align-items: center;background-color: white;padding-right: 0.2em;padding-left: 0.2em;position: relative;}#sk-container-id-2 div.sk-item {position: relative;z-index: 1;}#sk-container-id-2 div.sk-parallel {display: flex;align-items: stretch;justify-content: center;background-color: white;position: relative;}#sk-container-id-2 div.sk-item::before, #sk-container-id-2 div.sk-parallel-item::before {content: \"\";position: absolute;border-left: 1px solid gray;box-sizing: border-box;top: 0;bottom: 0;left: 50%;z-index: -1;}#sk-container-id-2 div.sk-parallel-item {display: flex;flex-direction: column;z-index: 1;position: relative;background-color: white;}#sk-container-id-2 div.sk-parallel-item:first-child::after {align-self: flex-end;width: 50%;}#sk-container-id-2 div.sk-parallel-item:last-child::after {align-self: flex-start;width: 50%;}#sk-container-id-2 div.sk-parallel-item:only-child::after {width: 0;}#sk-container-id-2 div.sk-dashed-wrapped {border: 1px dashed gray;margin: 0 0.4em 0.5em 0.4em;box-sizing: border-box;padding-bottom: 0.4em;background-color: white;}#sk-container-id-2 div.sk-label label {font-family: monospace;font-weight: bold;display: inline-block;line-height: 1.2em;}#sk-container-id-2 div.sk-label-container {text-align: center;}#sk-container-id-2 div.sk-container {/* jupyter's `normalize.less` sets `[hidden] { display: none; }` but bootstrap.min.css set `[hidden] { display: none !important; }` so we also need the `!important` here to be able to override the default hidden behavior on the sphinx rendered scikit-learn.org. See: https://github.com/scikit-learn/scikit-learn/issues/21755 */display: inline-block !important;position: relative;}#sk-container-id-2 div.sk-text-repr-fallback {display: none;}</style><div id=\"sk-container-id-2\" class=\"sk-top-container\"><div class=\"sk-text-repr-fallback\"><pre>GaussianNB()</pre><b>In a Jupyter environment, please rerun this cell to show the HTML representation or trust the notebook. <br />On GitHub, the HTML representation is unable to render, please try loading this page with nbviewer.org.</b></div><div class=\"sk-container\" hidden><div class=\"sk-item\"><div class=\"sk-estimator sk-toggleable\"><input class=\"sk-toggleable__control sk-hidden--visually\" id=\"sk-estimator-id-2\" type=\"checkbox\" checked><label for=\"sk-estimator-id-2\" class=\"sk-toggleable__label sk-toggleable__label-arrow\">GaussianNB</label><div class=\"sk-toggleable__content\"><pre>GaussianNB()</pre></div></div></div></div></div>"
            ]
          },
          "metadata": {},
          "execution_count": 35
        }
      ]
    },
    {
      "cell_type": "code",
      "source": [
        "y_pred = nb_model.predict(X_test)"
      ],
      "metadata": {
        "id": "iNzTWVkNDa-H"
      },
      "execution_count": 36,
      "outputs": []
    },
    {
      "cell_type": "code",
      "source": [
        "report2 = classification_report(y_test,y_pred)\n",
        "print(report2)"
      ],
      "metadata": {
        "colab": {
          "base_uri": "https://localhost:8080/"
        },
        "id": "KAomLUh6DvPm",
        "outputId": "2963022f-3662-4ecb-faf2-f0714cb8b868"
      },
      "execution_count": 37,
      "outputs": [
        {
          "output_type": "stream",
          "name": "stdout",
          "text": [
            "              precision    recall  f1-score   support\n",
            "\n",
            "           0       0.97      0.95      0.96       502\n",
            "           1       0.95      0.97      0.96       499\n",
            "\n",
            "    accuracy                           0.96      1001\n",
            "   macro avg       0.96      0.96      0.96      1001\n",
            "weighted avg       0.96      0.96      0.96      1001\n",
            "\n"
          ]
        }
      ]
    },
    {
      "cell_type": "markdown",
      "source": [
        "Precision:\n",
        "Precision measures the proportion of true positive predictions (correctly predicted positive instances) out of all positive predictions made by the model.\n",
        "For class 0 (label 0), the precision is 0.97. This means that 97% of the instances predicted as class 0 were actually true negatives.\n",
        "For class 1 (label 1), the precision is 0.95. This indicates that 95% of the instances predicted as class 1 were true positives(ww.bing.com, n.d)\n",
        "\n",
        "Recall (Sensitivity):\n",
        "Recall (also known as sensitivity or true positive rate) measures the proportion of true positive predictions out of all actual positive instances.\n",
        "For class 0, the recall is 0.95. This means that 95% of the actual class 0 instances were correctly identified by the model.\n",
        "For class 1, the recall is 0.97. This indicates that 97% of the actual class 1 instances were correctly identified(ww.bing.com, n.d)\n",
        "\n",
        "F1-Score:\n",
        "The F1-score is the harmonic mean of precision and recall. It balances precision and recall, especially when classes are imbalanced.\n",
        "The F1-score for both classes is 0.96, which is a good overall measure of model performance (ww.bing.com, n.d)\n",
        "\n",
        "Support:\n",
        "The “support” column represents the number of instances (samples) for each class in the test set.\n",
        "For class 0, there are 502 instances, and for class 1, there are 499 instances(ww.bing.com, n.d)\n",
        "\n",
        "Accuracy:\n",
        "The overall accuracy of the model is 0.96 (96%).\n",
        "Accuracy measures the proportion of correctly predicted instances (both true positives and true negatives) out of the total instances(ww.bing.com, n.d)\n",
        "\n",
        "Macro Average and Weighted Average:\n",
        "The macro average calculates the average precision, recall, and F1-score across both classes, treating them equally.\n",
        "The weighted average considers class imbalance by weighting each class’s metrics based on its support (number of instances) (ww.bing.com, n.d)\n",
        "\n",
        "Overall Assessment:\n",
        "The model performs well, with high precision, recall, and F1-score for both classes.The balanced macro average and weighted average indicate consistent performance across classes (ww.bing.com, n.d)"
      ],
      "metadata": {
        "id": "yaQXTA_85wZU"
      }
    },
    {
      "cell_type": "code",
      "source": [
        "print(\"Confusion Matrix:\")\n",
        "print(confusion_matrix(y_test,y_pred))"
      ],
      "metadata": {
        "colab": {
          "base_uri": "https://localhost:8080/"
        },
        "id": "65gvUyOqEfN4",
        "outputId": "6702e9d3-4e03-4a55-d876-b617b31e81b2"
      },
      "execution_count": 38,
      "outputs": [
        {
          "output_type": "stream",
          "name": "stdout",
          "text": [
            "Confusion Matrix:\n",
            "[[478  24]\n",
            " [ 16 483]]\n"
          ]
        }
      ]
    },
    {
      "cell_type": "markdown",
      "source": [
        "True Positives (TP): Cases where the real \"Female\" was accurately predicted to be \"Female.\"483 genuine affirmative predictions are made.\n",
        "True Negatives (TN): Cases where the real \"Male\" was accurately predicted to be \"Male.\"478 real negative predictions exist.\n",
        "False Positives (FP): Cases when the true outcome was \"Male,\" although the prediction was \"Female.\" 24 erroneous positive predictions were made (www.bing,com, 2022).\n",
        "False Negatives (FN): Cases where the true outcome is \"Female,\" although the prediction was \"Male.\" 16 incorrect negative forecasts were made."
      ],
      "metadata": {
        "id": "jiyBToT846dh"
      }
    },
    {
      "cell_type": "code",
      "source": [
        "from sklearn.metrics import confusion_matrix\n",
        "\n",
        "# Assuming you have the true labels (y_true) and predicted labels (y_pred)\n",
        "cm = confusion_matrix(y_test, y_pred)\n",
        "\n",
        "# Create a heatmap\n",
        "plt.figure(figsize=(6, 4))\n",
        "sns.heatmap(cm, annot=True, fmt=\"d\", cmap=\"Blues\", cbar=False,\n",
        "            xticklabels=[\"Male\", \"Female\"], yticklabels=[\"Male\", \"Female\"])\n",
        "plt.xlabel(\"Predicted Label\")\n",
        "plt.ylabel(\"True Label\")\n",
        "plt.title(\"Confusion Matrix (K-NN)\")\n",
        "plt.show()"
      ],
      "metadata": {
        "colab": {
          "base_uri": "https://localhost:8080/",
          "height": 410
        },
        "id": "SMamG0b0E1_r",
        "outputId": "83e95adf-f719-4651-9cdc-ea182cc8eb4e"
      },
      "execution_count": 39,
      "outputs": [
        {
          "output_type": "display_data",
          "data": {
            "text/plain": [
              "<Figure size 600x400 with 1 Axes>"
            ],
            "image/png": "[encoded data removed]"
          },
          "metadata": {}
        }
      ]
    },
    {
      "cell_type": "markdown",
      "source": [
        "Comments:\n",
        "The distribution of true positives and true negatives is evenly distributed, indicating the general performance of the Naive Bayes model.Good accuracy and recall are shown by the comparatively low false positives (24) and false negatives (16).\n",
        "Although the model appears to handle both genders well,ROC curve yield more information (www.bing.com, 2022)."
      ],
      "metadata": {
        "id": "lluZVTOrF-si"
      }
    },
    {
      "cell_type": "code",
      "source": [
        "y_prob = nb_model.predict_proba(X_test)[:, 1]\n",
        "fpr, tpr, thresholds = roc_curve(y_test, y_prob)\n",
        "\n",
        "\n",
        "roc_auc = auc(fpr, tpr)\n",
        "\n",
        "# Plot the ROC curve\n",
        "plt.figure(figsize=(8, 6))\n",
        "plt.plot(fpr, tpr, color='darkorange', lw=2, label='ROC curve (AUC = %0.2f)' % roc_auc)\n",
        "plt.plot([0, 1], [0, 1], color='navy', lw=2, linestyle='--')\n",
        "plt.xlim([0.0, 1.0])\n",
        "plt.ylim([0.0, 1.05])\n",
        "plt.xlabel('False Positive Rate')\n",
        "plt.ylabel('True Positive Rate')\n",
        "plt.title('Receiver Operating Characteristic (ROC) Curve')\n",
        "plt.legend(loc=\"lower right\")\n",
        "plt.show()"
      ],
      "metadata": {
        "colab": {
          "base_uri": "https://localhost:8080/",
          "height": 564
        },
        "id": "F3Ix-cixGHDW",
        "outputId": "a92cc44b-8830-4ba4-c5b2-898fcb23ea61"
      },
      "execution_count": 40,
      "outputs": [
        {
          "output_type": "display_data",
          "data": {
            "text/plain": [
              "<Figure size 800x600 with 1 Axes>"
            ],
            "image/png": "[encoded data removed]"
          },
          "metadata": {}
        }
      ]
    },
    {
      "cell_type": "markdown",
      "source": [
        "AUC = 1.00 on the ROC Curve:\n",
        "A ROC curve is considered significant when its AUC (Area Under the Curve) is 1.00.\n",
        "Complete Discrimination: When a model has an AUC of 1.00, it effectively distinguishes between positive and negative cases.\n",
        "Optimal TPR-FPR Tradeoff: With no false negatives, the model attains a true positive rate (TPR) of 1.00, and with no false positives, it maintains a false positive rate (FPR) of 0.00.\n",
        "In real-world situations, obtaining an AUC of 1.00 is uncommon and indicates a superior model.\n",
        "The model produces perfect predictions when the AUC is 1.00.\n",
        "All  occurrences of \"Female\" are accurately identified (TPR = 1.00).\n",
        "There are never any \"Male\" misclassifications (FPR = 0.00).\n",
        "But such perfection is frequently an indication of data leakage or overfitting.\n"
      ],
      "metadata": {
        "id": "O9YQnQLHKLtk"
      }
    },
    {
      "cell_type": "markdown",
      "source": [
        "# **STEP 7:COMPARE K-NN VS NAIVE BAYES ANALYSIS**"
      ],
      "metadata": {
        "id": "TPiFvUlYJBNj"
      }
    },
    {
      "cell_type": "markdown",
      "source": [
        "Let’s compare the performance of K-Nearest Neighbors (KNN) and Naive Bayes models based on the provided classification reports:\n",
        "\n",
        "Naive Bayes Model: Precision for class 0 (label 0): 0.97 Recall (sensitivity) for class 0: 0.95 F1-score for class 0: 0.96 Support for class 0: 502 instances Precision for class 1 (label 1): 0.95 Recall for class 1: 0.97 F1-score for class 1: 0.96 Support for class 1: 499 instances Overall accuracy: 0.96 (96%) Macro average F1-score: 0.96 Weighted average F1-score: 0.96\n",
        "\n",
        "KNN Model: Precision for class 0: 0.96 Recall for class 0: 0.98 F1-score for class 0: 0.97 Support for class 0: 502 instances Precision for class 1: 0.98 Recall for class 1: 0.96 F1-score for class 1: 0.97 Support for class 1: 499 instances Overall accuracy: 0.97 (97%) Macro average F1-score: 0.97 Weighted average F1-score: 0.97\n",
        "\n",
        "Comparison: Both models perform well, with high precision, recall, and F1-scores. The KNN model has slightly better recall for class 0 and precision for class 1.The Naive Bayes model has slightly better precision for class 0 and recall for class 1.Overall, both models are comparable, but the KNN model has a slightly higher accuracy.\n",
        "\n",
        "Considerations: We can consider the model based on the specific requirements (e.g., precision vs. recall trade-offs).Considering other factors such as computational efficiency, interpretability, and ease of implementation. In summary, both models are strong contenders, and the choice depends on your priorities and context. Computational Efficiency: KNN: The KNN algorithm requires storing the entire training dataset and calculating distances for each prediction. As the dataset grows, computational cost increases. Naive Bayes: Naive Bayes is computationally efficient, especially for high-dimensional data, as it relies on simple probabilistic calculations. Interpretability: KNN: KNN lacks interpretability. It doesn’t provide insights into feature importance or decision boundaries. Naive Bayes: Naive Bayes is more interpretable. It models feature independence and allows understanding of class probabilities based on evidence. Ease of Implementation: KNN: Implementation is straightforward, but tuning hyperparameters (like k) can be cumbersome. Naive Bayes: Naive Bayes is easy to implement, especially for text classification tasks (e.g., spam detection). Conclusion: Considering all factors, Naive Bayes seems better: It’s computationally efficient and interpretable. It doesn’t require fine-tuning like KNN. Since both models perform similarly in terms of accuracy, there’s no urgent need for improvement. In summary, Naive Bayes strikes a good balance between performance and simplicity, making it a practical choice for many applications Computational Efficiency: KNN: The KNN algorithm requires storing the entire training dataset and calculating distances for each prediction. As the dataset grows, computational cost increases. Naive Bayes: Naive Bayes is computationally efficient, especially for high-dimensional data, as it relies on simple probabilistic calculations. Interpretability: KNN: KNN lacks interpretability. It doesn’t provide insights into feature importance or decision boundaries. Naive Bayes: Naive Bayes is more interpretable. It models feature independence and allows understanding of class probabilities based on evidence. Ease of Implementation: KNN: Implementation is straightforward, but tuning hyperparameters (like k) can be cumbersome. Naive Bayes: Naive Bayes is easy to implement, especially for text classification tasks (e.g., spam detection). Conclusion: Considering all factors, Naive Bayes seems better: It’s computationally efficient and interpretable. It doesn’t require fine-tuning like KNN. Since both models perform similarly in terms of accuracy, there’s no urgent need for improvement. In summary, Naive Bayes strikes a good balance between performance and simplicity, making it a practical choice for many applications (Zach, 2022)"
      ],
      "metadata": {
        "id": "JaaC1OyFBq1m"
      }
    }
  ]
}